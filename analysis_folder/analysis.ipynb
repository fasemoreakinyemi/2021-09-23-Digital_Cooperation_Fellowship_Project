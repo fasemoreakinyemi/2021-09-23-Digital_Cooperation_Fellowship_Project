{
 "cells": [
  {
   "cell_type": "code",
   "execution_count": 1,
   "metadata": {},
   "outputs": [],
   "source": [
    "#upgrade seaborn\n",
    "#import sys\n",
    "#!{sys.executable} -m pip install -U seaborn\n"
   ]
  },
  {
   "cell_type": "code",
   "execution_count": 10,
   "metadata": {},
   "outputs": [],
   "source": [
    "# Import libraries\n",
    "import pandas as pd\n",
    "import seaborn as sns\n",
    "\n",
    "from sklearn.preprocessing import OneHotEncoder, StandardScaler, LabelEncoder\n",
    "from sklearn.model_selection import train_test_split\n",
    "from sklearn.model_selection import cross_val_score\n",
    "from sklearn.model_selection import GridSearchCV\n",
    "from sklearn.dummy import DummyClassifier\n",
    "\n",
    "# classifiers\n",
    "from sklearn.neural_network import MLPClassifier\n",
    "from sklearn.neighbors import KNeighborsClassifier\n",
    "from sklearn.svm import SVC\n",
    "from sklearn.gaussian_process.kernels import RBF\n",
    "from sklearn.tree import DecisionTreeClassifier\n",
    "from sklearn.ensemble import RandomForestClassifier, AdaBoostClassifier\n",
    "from sklearn.naive_bayes import GaussianNB\n",
    "\n",
    "# evaluation\n",
    "from sklearn.metrics import classification_report, confusion_matrix, accuracy_score\n",
    "\n",
    "from scipy.stats import chisquare, chi2_contingency"
   ]
  },
  {
   "cell_type": "code",
   "execution_count": 11,
   "metadata": {},
   "outputs": [],
   "source": [
    "# load datasest\n",
    "df = pd.read_excel(\"./data/sarscov_2.xlsx\", header=1, comment=\"#\")"
   ]
  },
  {
   "cell_type": "code",
   "execution_count": 12,
   "metadata": {},
   "outputs": [],
   "source": [
    "# cleanup\n",
    "indexNames = df[df['Age'] == 'NS'].index\n",
    " \n",
    "# Delete these row indexes from dataFrame\n",
    "df.drop(indexNames , inplace=True)\n",
    "\n",
    "# set age to numeric\n",
    "df[\"Age\"] = df[\"Age\"].astype(int)\n",
    "\n",
    "# bin ages\n",
    "df[\"Age bin\"] = pd.cut(x=df['Age'], \n",
    "                       bins=[10, 20, 29, 39, 49, 59, 69, 79, 89], \n",
    "                       labels=['10s', '20s', '30s', '40s', '50s','60s', '70s', '80s'])\n",
    "\n",
    "# remove unwanted spaces\n",
    "\n",
    "df[\" IgM/Pos.\"] = df[\" IgM/Pos.\"].str.replace(' ', '')"
   ]
  },
  {
   "cell_type": "code",
   "execution_count": 13,
   "metadata": {},
   "outputs": [],
   "source": [
    "# create class column\n",
    "def get_class(row):\n",
    "    wanted = row[\"lab-ID\"]\n",
    "    return wanted.split(\"-\")[0]\n",
    "\n",
    "df[\"status\"] = df.apply(get_class, axis=1)\n",
    "\n",
    "# create target column\n",
    "def encode_symptoms(row):\n",
    "    wanted = row[\"Symptomes\"]\n",
    "    if str(wanted) == \"no\":\n",
    "        return 0\n",
    "    return 1\n",
    "\n",
    "df[\"target\"] = df.apply(encode_symptoms, axis=1)"
   ]
  },
  {
   "cell_type": "code",
   "execution_count": 36,
   "metadata": {},
   "outputs": [
    {
     "data": {
      "text/html": [
       "<div>\n",
       "<style scoped>\n",
       "    .dataframe tbody tr th:only-of-type {\n",
       "        vertical-align: middle;\n",
       "    }\n",
       "\n",
       "    .dataframe tbody tr th {\n",
       "        vertical-align: top;\n",
       "    }\n",
       "\n",
       "    .dataframe thead th {\n",
       "        text-align: right;\n",
       "    }\n",
       "</style>\n",
       "<table border=\"1\" class=\"dataframe\">\n",
       "  <thead>\n",
       "    <tr style=\"text-align: right;\">\n",
       "      <th></th>\n",
       "      <th>lab-ID</th>\n",
       "      <th>Gender</th>\n",
       "      <th>Age</th>\n",
       "      <th>IgM/Pos.</th>\n",
       "      <th>IgM/b inten.</th>\n",
       "      <th>IgM/b inten. value</th>\n",
       "      <th>IgG/Pos.</th>\n",
       "      <th>IgG/b inten.</th>\n",
       "      <th>IgG/b inten. value</th>\n",
       "      <th>Symptomes</th>\n",
       "      <th>Age bin</th>\n",
       "      <th>status</th>\n",
       "      <th>target</th>\n",
       "    </tr>\n",
       "  </thead>\n",
       "  <tbody>\n",
       "    <tr>\n",
       "      <th>0</th>\n",
       "      <td>LSS-1</td>\n",
       "      <td>M</td>\n",
       "      <td>54</td>\n",
       "      <td>P</td>\n",
       "      <td>F</td>\n",
       "      <td>10</td>\n",
       "      <td>P</td>\n",
       "      <td>S</td>\n",
       "      <td>100</td>\n",
       "      <td>Headache, sorethroat</td>\n",
       "      <td>50s</td>\n",
       "      <td>LSS</td>\n",
       "      <td>1</td>\n",
       "    </tr>\n",
       "    <tr>\n",
       "      <th>1</th>\n",
       "      <td>LSS-2</td>\n",
       "      <td>F</td>\n",
       "      <td>45</td>\n",
       "      <td>N</td>\n",
       "      <td>no</td>\n",
       "      <td>0</td>\n",
       "      <td>N</td>\n",
       "      <td>no</td>\n",
       "      <td>0</td>\n",
       "      <td>no</td>\n",
       "      <td>40s</td>\n",
       "      <td>LSS</td>\n",
       "      <td>0</td>\n",
       "    </tr>\n",
       "    <tr>\n",
       "      <th>2</th>\n",
       "      <td>LSS-3</td>\n",
       "      <td>F</td>\n",
       "      <td>37</td>\n",
       "      <td>N</td>\n",
       "      <td>no</td>\n",
       "      <td>0</td>\n",
       "      <td>N</td>\n",
       "      <td>no</td>\n",
       "      <td>0</td>\n",
       "      <td>Fatigue, headache, abdominal pain, diarrhoea</td>\n",
       "      <td>30s</td>\n",
       "      <td>LSS</td>\n",
       "      <td>1</td>\n",
       "    </tr>\n",
       "    <tr>\n",
       "      <th>3</th>\n",
       "      <td>LSS-4</td>\n",
       "      <td>M</td>\n",
       "      <td>40</td>\n",
       "      <td>N</td>\n",
       "      <td>no</td>\n",
       "      <td>0</td>\n",
       "      <td>N</td>\n",
       "      <td>no</td>\n",
       "      <td>0</td>\n",
       "      <td>no</td>\n",
       "      <td>40s</td>\n",
       "      <td>LSS</td>\n",
       "      <td>0</td>\n",
       "    </tr>\n",
       "    <tr>\n",
       "      <th>4</th>\n",
       "      <td>LSS-5</td>\n",
       "      <td>M</td>\n",
       "      <td>50</td>\n",
       "      <td>N</td>\n",
       "      <td>no</td>\n",
       "      <td>0</td>\n",
       "      <td>P</td>\n",
       "      <td>F</td>\n",
       "      <td>10</td>\n",
       "      <td>no</td>\n",
       "      <td>50s</td>\n",
       "      <td>LSS</td>\n",
       "      <td>0</td>\n",
       "    </tr>\n",
       "    <tr>\n",
       "      <th>...</th>\n",
       "      <td>...</td>\n",
       "      <td>...</td>\n",
       "      <td>...</td>\n",
       "      <td>...</td>\n",
       "      <td>...</td>\n",
       "      <td>...</td>\n",
       "      <td>...</td>\n",
       "      <td>...</td>\n",
       "      <td>...</td>\n",
       "      <td>...</td>\n",
       "      <td>...</td>\n",
       "      <td>...</td>\n",
       "      <td>...</td>\n",
       "    </tr>\n",
       "    <tr>\n",
       "      <th>101</th>\n",
       "      <td>HSS-102</td>\n",
       "      <td>F</td>\n",
       "      <td>40</td>\n",
       "      <td>N</td>\n",
       "      <td>no</td>\n",
       "      <td>0</td>\n",
       "      <td>N</td>\n",
       "      <td>no</td>\n",
       "      <td>0</td>\n",
       "      <td>Sorthroat, headache</td>\n",
       "      <td>40s</td>\n",
       "      <td>HSS</td>\n",
       "      <td>1</td>\n",
       "    </tr>\n",
       "    <tr>\n",
       "      <th>102</th>\n",
       "      <td>HSS-103</td>\n",
       "      <td>F</td>\n",
       "      <td>37</td>\n",
       "      <td>P</td>\n",
       "      <td>VF</td>\n",
       "      <td>5</td>\n",
       "      <td>P</td>\n",
       "      <td>F</td>\n",
       "      <td>10</td>\n",
       "      <td>Sorthroat</td>\n",
       "      <td>30s</td>\n",
       "      <td>HSS</td>\n",
       "      <td>1</td>\n",
       "    </tr>\n",
       "    <tr>\n",
       "      <th>103</th>\n",
       "      <td>HSS-104</td>\n",
       "      <td>F</td>\n",
       "      <td>60</td>\n",
       "      <td>N</td>\n",
       "      <td>no</td>\n",
       "      <td>0</td>\n",
       "      <td>N</td>\n",
       "      <td>no</td>\n",
       "      <td>0</td>\n",
       "      <td>no</td>\n",
       "      <td>60s</td>\n",
       "      <td>HSS</td>\n",
       "      <td>0</td>\n",
       "    </tr>\n",
       "    <tr>\n",
       "      <th>104</th>\n",
       "      <td>HSS-105</td>\n",
       "      <td>M</td>\n",
       "      <td>50</td>\n",
       "      <td>P</td>\n",
       "      <td>S</td>\n",
       "      <td>100</td>\n",
       "      <td>P</td>\n",
       "      <td>S</td>\n",
       "      <td>100</td>\n",
       "      <td>Fatigue, abdominal pain, anosmia, headache, di...</td>\n",
       "      <td>50s</td>\n",
       "      <td>HSS</td>\n",
       "      <td>1</td>\n",
       "    </tr>\n",
       "    <tr>\n",
       "      <th>105</th>\n",
       "      <td>HSS-106</td>\n",
       "      <td>F</td>\n",
       "      <td>21</td>\n",
       "      <td>N</td>\n",
       "      <td>no</td>\n",
       "      <td>0</td>\n",
       "      <td>P</td>\n",
       "      <td>F</td>\n",
       "      <td>10</td>\n",
       "      <td>Fatigue, headache, cough, sorthroat</td>\n",
       "      <td>20s</td>\n",
       "      <td>HSS</td>\n",
       "      <td>1</td>\n",
       "    </tr>\n",
       "  </tbody>\n",
       "</table>\n",
       "<p>105 rows × 13 columns</p>\n",
       "</div>"
      ],
      "text/plain": [
       "      lab-ID Gender  Age  IgM/Pos.  IgM/b inten.  IgM/b inten. value IgG/Pos.  \\\n",
       "0      LSS-1      M   54         P             F                  10        P   \n",
       "1      LSS-2      F   45         N            no                   0        N   \n",
       "2      LSS-3      F   37         N            no                   0        N   \n",
       "3      LSS-4      M   40         N            no                   0        N   \n",
       "4      LSS-5      M   50         N            no                   0        P   \n",
       "..       ...    ...  ...       ...           ...                 ...      ...   \n",
       "101  HSS-102      F   40         N            no                   0        N   \n",
       "102  HSS-103      F   37         P            VF                   5        P   \n",
       "103  HSS-104      F   60         N            no                   0        N   \n",
       "104  HSS-105      M   50         P             S                 100        P   \n",
       "105  HSS-106      F   21         N            no                   0        P   \n",
       "\n",
       "     IgG/b inten.  IgG/b inten. value  \\\n",
       "0               S                 100   \n",
       "1              no                   0   \n",
       "2              no                   0   \n",
       "3              no                   0   \n",
       "4               F                  10   \n",
       "..            ...                 ...   \n",
       "101            no                   0   \n",
       "102             F                  10   \n",
       "103            no                   0   \n",
       "104             S                 100   \n",
       "105             F                  10   \n",
       "\n",
       "                                             Symptomes Age bin status  target  \n",
       "0                                 Headache, sorethroat     50s    LSS       1  \n",
       "1                                                   no     40s    LSS       0  \n",
       "2         Fatigue, headache, abdominal pain, diarrhoea     30s    LSS       1  \n",
       "3                                                   no     40s    LSS       0  \n",
       "4                                                   no     50s    LSS       0  \n",
       "..                                                 ...     ...    ...     ...  \n",
       "101                                Sorthroat, headache     40s    HSS       1  \n",
       "102                                          Sorthroat     30s    HSS       1  \n",
       "103                                                 no     60s    HSS       0  \n",
       "104  Fatigue, abdominal pain, anosmia, headache, di...     50s    HSS       1  \n",
       "105                Fatigue, headache, cough, sorthroat     20s    HSS       1  \n",
       "\n",
       "[105 rows x 13 columns]"
      ]
     },
     "execution_count": 36,
     "metadata": {},
     "output_type": "execute_result"
    }
   ],
   "source": [
    "df"
   ]
  },
  {
   "cell_type": "code",
   "execution_count": 14,
   "metadata": {},
   "outputs": [],
   "source": [
    "targets = df[\"target\"].values"
   ]
  },
  {
   "cell_type": "code",
   "execution_count": 15,
   "metadata": {},
   "outputs": [
    {
     "data": {
      "text/plain": [
       "(105, 23)"
      ]
     },
     "execution_count": 15,
     "metadata": {},
     "output_type": "execute_result"
    }
   ],
   "source": [
    "# encodings\n",
    "\n",
    "# bulk encodings\n",
    "\n",
    "wanted_columns = [\"Gender\", \" IgM/Pos.\",\n",
    "                   \" IgM/b inten.\", \"IgG/Pos.\",\n",
    "                   \" IgG/b inten.\", \"status\", \"Age bin\"]\n",
    "df_wanted = df[wanted_columns]\n",
    "\n",
    "le = LabelEncoder()\n",
    "df_wanted_le = df_wanted.apply(le.fit_transform)\n",
    "\n",
    "ohe = OneHotEncoder()\n",
    "ohe.fit(df_wanted_le)\n",
    "input_df = ohe.transform(df_wanted_le).toarray()\n",
    "input_df.shape\n",
    "    "
   ]
  },
  {
   "cell_type": "code",
   "execution_count": 16,
   "metadata": {},
   "outputs": [
    {
     "data": {
      "text/plain": [
       "array([[0., 1., 0., ..., 1., 0., 0.],\n",
       "       [1., 0., 1., ..., 0., 0., 0.],\n",
       "       [1., 0., 1., ..., 0., 0., 0.],\n",
       "       ...,\n",
       "       [1., 0., 1., ..., 0., 1., 0.],\n",
       "       [0., 1., 0., ..., 1., 0., 0.],\n",
       "       [1., 0., 1., ..., 0., 0., 0.]])"
      ]
     },
     "execution_count": 16,
     "metadata": {},
     "output_type": "execute_result"
    }
   ],
   "source": [
    "input_df"
   ]
  },
  {
   "cell_type": "code",
   "execution_count": 17,
   "metadata": {},
   "outputs": [],
   "source": [
    "# Generate training and test sets\n",
    "\n",
    "X_train, X_test, y_train, y_test = train_test_split(input_df,\n",
    "                                                    targets,\n",
    "                                                    random_state=42)\n",
    "\n"
   ]
  },
  {
   "cell_type": "code",
   "execution_count": 22,
   "metadata": {},
   "outputs": [
    {
     "data": {
      "text/plain": [
       "0.5925925925925926"
      ]
     },
     "execution_count": 22,
     "metadata": {},
     "output_type": "execute_result"
    }
   ],
   "source": [
    "# Benchmark with dummy classifier\n",
    "\n",
    "dummy_clf = DummyClassifier(strategy=\"stratified\")\n",
    "dummy_clf.fit(X_train, y_train)\n",
    "dummy_clf.score(X_test, y_test)\n",
    "\n"
   ]
  },
  {
   "cell_type": "code",
   "execution_count": 20,
   "metadata": {},
   "outputs": [
    {
     "name": "stdout",
     "output_type": "stream",
     "text": [
      "0.5925925925925926\n"
     ]
    }
   ],
   "source": [
    "# Random forest model\n",
    "\n",
    "model = RandomForestClassifier(n_jobs=2, random_state=42)\n",
    "model.fit(X_train, y_train)\n",
    "print(model.score(X_test, y_test))"
   ]
  },
  {
   "cell_type": "code",
   "execution_count": 23,
   "metadata": {},
   "outputs": [
    {
     "data": {
      "text/plain": [
       "array([0.07294861, 0.06746047, 0.02559584, 0.02739642, 0.01928097,\n",
       "       0.00056769, 0.00825625, 0.02396342, 0.08069704, 0.07951529,\n",
       "       0.02687549, 0.03814273, 0.00388376, 0.10130147, 0.07067969,\n",
       "       0.06613774, 0.02375316, 0.04235328, 0.04428636, 0.06233487,\n",
       "       0.07256331, 0.02588711, 0.01611904])"
      ]
     },
     "execution_count": 23,
     "metadata": {},
     "output_type": "execute_result"
    }
   ],
   "source": [
    "model.feature_importances_"
   ]
  },
  {
   "cell_type": "code",
   "execution_count": 104,
   "metadata": {},
   "outputs": [],
   "source": [
    "# Set up different classifiers\n",
    "\n",
    "names = [\"K-Nearest Neighbors\", \"Naive Bayes\", \"Linear SVM\", \"RBF SVM\", \n",
    "         \"Decision Tree\", \"Random Forest\", \"Neural Net\", \"AdaBoost\"]\n",
    "\n",
    "classifiers = [\n",
    "    KNeighborsClassifier(),\n",
    "    GaussianNB(),\n",
    "    SVC(kernel=\"linear\", C=0.025),\n",
    "    SVC(gamma=\"scale\", C=1),\n",
    "    DecisionTreeClassifier(),\n",
    "    RandomForestClassifier(),\n",
    "    MLPClassifier(),\n",
    "    AdaBoostClassifier()]\n",
    "\n"
   ]
  },
  {
   "cell_type": "code",
   "execution_count": 105,
   "metadata": {},
   "outputs": [
    {
     "name": "stdout",
     "output_type": "stream",
     "text": [
      "###### K-Nearest Neighbors #######\n",
      "accuracy: 0.5925925925925926\n",
      "report:\n",
      "              precision    recall  f1-score   support\n",
      "\n",
      "           0       0.33      0.57      0.42         7\n",
      "           1       0.80      0.60      0.69        20\n",
      "\n",
      "    accuracy                           0.59        27\n",
      "   macro avg       0.57      0.59      0.55        27\n",
      "weighted avg       0.68      0.59      0.62        27\n",
      "\n",
      "------------------------------\n",
      "\n",
      "###### Naive Bayes #######\n",
      "accuracy: 0.48148148148148145\n",
      "report:\n",
      "              precision    recall  f1-score   support\n",
      "\n",
      "           0       0.23      0.43      0.30         7\n",
      "           1       0.71      0.50      0.59        20\n",
      "\n",
      "    accuracy                           0.48        27\n",
      "   macro avg       0.47      0.46      0.44        27\n",
      "weighted avg       0.59      0.48      0.51        27\n",
      "\n",
      "------------------------------\n",
      "\n",
      "###### Linear SVM #######\n",
      "accuracy: 0.5185185185185185\n",
      "report:\n",
      "              precision    recall  f1-score   support\n",
      "\n",
      "           0       0.25      0.43      0.32         7\n",
      "           1       0.73      0.55      0.63        20\n",
      "\n",
      "    accuracy                           0.52        27\n",
      "   macro avg       0.49      0.49      0.47        27\n",
      "weighted avg       0.61      0.52      0.55        27\n",
      "\n",
      "------------------------------\n",
      "\n",
      "###### RBF SVM #######\n",
      "accuracy: 0.48148148148148145\n",
      "report:\n",
      "              precision    recall  f1-score   support\n",
      "\n",
      "           0       0.23      0.43      0.30         7\n",
      "           1       0.71      0.50      0.59        20\n",
      "\n",
      "    accuracy                           0.48        27\n",
      "   macro avg       0.47      0.46      0.44        27\n",
      "weighted avg       0.59      0.48      0.51        27\n",
      "\n",
      "------------------------------\n",
      "\n",
      "###### Decision Tree #######\n",
      "accuracy: 0.5925925925925926\n",
      "report:\n",
      "              precision    recall  f1-score   support\n",
      "\n",
      "           0       0.30      0.43      0.35         7\n",
      "           1       0.76      0.65      0.70        20\n",
      "\n",
      "    accuracy                           0.59        27\n",
      "   macro avg       0.53      0.54      0.53        27\n",
      "weighted avg       0.64      0.59      0.61        27\n",
      "\n",
      "------------------------------\n",
      "\n",
      "###### Random Forest #######\n",
      "accuracy: 0.5555555555555556\n",
      "report:\n",
      "              precision    recall  f1-score   support\n",
      "\n",
      "           0       0.14      0.14      0.14         7\n",
      "           1       0.70      0.70      0.70        20\n",
      "\n",
      "    accuracy                           0.56        27\n",
      "   macro avg       0.42      0.42      0.42        27\n",
      "weighted avg       0.56      0.56      0.56        27\n",
      "\n",
      "------------------------------\n",
      "\n",
      "###### Neural Net #######\n",
      "accuracy: 0.5185185185185185\n",
      "report:\n",
      "              precision    recall  f1-score   support\n",
      "\n",
      "           0       0.12      0.14      0.13         7\n",
      "           1       0.68      0.65      0.67        20\n",
      "\n",
      "    accuracy                           0.52        27\n",
      "   macro avg       0.40      0.40      0.40        27\n",
      "weighted avg       0.54      0.52      0.53        27\n",
      "\n",
      "------------------------------\n",
      "\n",
      "###### AdaBoost #######\n",
      "accuracy: 0.48148148148148145\n",
      "report:\n",
      "              precision    recall  f1-score   support\n",
      "\n",
      "           0       0.23      0.43      0.30         7\n",
      "           1       0.71      0.50      0.59        20\n",
      "\n",
      "    accuracy                           0.48        27\n",
      "   macro avg       0.47      0.46      0.44        27\n",
      "weighted avg       0.59      0.48      0.51        27\n",
      "\n",
      "------------------------------\n",
      "\n"
     ]
    },
    {
     "name": "stderr",
     "output_type": "stream",
     "text": [
      "/opt/conda/lib/python3.7/site-packages/sklearn/neural_network/_multilayer_perceptron.py:571: ConvergenceWarning: Stochastic Optimizer: Maximum iterations (200) reached and the optimization hasn't converged yet.\n",
      "  % self.max_iter, ConvergenceWarning)\n"
     ]
    }
   ],
   "source": [
    "# Compare different classifiers\n",
    "\n",
    "for name, clf in zip(names, classifiers):\n",
    "    model = clf\n",
    "    model.fit(X_train, y_train)\n",
    "    y_pred = model.predict(X_test)\n",
    "    accuracy = accuracy_score(y_test,y_pred)\n",
    "    report = classification_report(y_test, y_pred)\n",
    "    print(\"###### \" + name + \" #######\")\n",
    "    print(\"accuracy: {}\".format(accuracy))\n",
    "    print(\"report:\")\n",
    "    print(report)\n",
    "    print(\"------------------------------\\n\")\n"
   ]
  },
  {
   "cell_type": "code",
   "execution_count": 24,
   "metadata": {},
   "outputs": [],
   "source": [
    "# chi squared test\n",
    "\n",
    "# Null Hypothesis -> the relative proportion of  positive IgM positive samples \n",
    "#                    is the same as IgG irrespective of social class\n",
    "\n",
    "igm_df = df[df[\" IgM/Pos.\"] == \"P\"].groupby(['status', ' IgM/Pos.']).size().reset_index(name='IgM pos counts').drop([\" IgM/Pos.\"],\n",
    "                                                                                                                   axis=1)\n",
    "\n",
    "igg_df = df[df[\"IgG/Pos.\"] == \"P\"].groupby(['status', 'IgG/Pos.']).size().reset_index(name='IgG pos counts')\n",
    "\n",
    "igg_count = igg_df[\"IgG pos counts\"]\n",
    "\n",
    "pivot_df = igm_df.join(igg_count)\n"
   ]
  },
  {
   "cell_type": "code",
   "execution_count": 25,
   "metadata": {},
   "outputs": [
    {
     "data": {
      "text/html": [
       "<div>\n",
       "<style scoped>\n",
       "    .dataframe tbody tr th:only-of-type {\n",
       "        vertical-align: middle;\n",
       "    }\n",
       "\n",
       "    .dataframe tbody tr th {\n",
       "        vertical-align: top;\n",
       "    }\n",
       "\n",
       "    .dataframe thead th {\n",
       "        text-align: right;\n",
       "    }\n",
       "</style>\n",
       "<table border=\"1\" class=\"dataframe\">\n",
       "  <thead>\n",
       "    <tr style=\"text-align: right;\">\n",
       "      <th></th>\n",
       "      <th>status</th>\n",
       "      <th>IgM pos counts</th>\n",
       "      <th>IgG pos counts</th>\n",
       "    </tr>\n",
       "  </thead>\n",
       "  <tbody>\n",
       "    <tr>\n",
       "      <th>0</th>\n",
       "      <td>HSS</td>\n",
       "      <td>12</td>\n",
       "      <td>26</td>\n",
       "    </tr>\n",
       "    <tr>\n",
       "      <th>1</th>\n",
       "      <td>LSS</td>\n",
       "      <td>12</td>\n",
       "      <td>33</td>\n",
       "    </tr>\n",
       "  </tbody>\n",
       "</table>\n",
       "</div>"
      ],
      "text/plain": [
       "  status  IgM pos counts  IgG pos counts\n",
       "0    HSS              12              26\n",
       "1    LSS              12              33"
      ]
     },
     "execution_count": 25,
     "metadata": {},
     "output_type": "execute_result"
    }
   ],
   "source": [
    "pivot_df"
   ]
  },
  {
   "cell_type": "code",
   "execution_count": 27,
   "metadata": {},
   "outputs": [],
   "source": [
    "pivot_df = pivot_df.set_index(\"status\")"
   ]
  },
  {
   "cell_type": "code",
   "execution_count": 30,
   "metadata": {},
   "outputs": [],
   "source": [
    "result = chi2_contingency(pivot_df)"
   ]
  },
  {
   "cell_type": "code",
   "execution_count": 35,
   "metadata": {},
   "outputs": [
    {
     "data": {
      "text/plain": [
       "0.06191510143060089"
      ]
     },
     "execution_count": 35,
     "metadata": {},
     "output_type": "execute_result"
    }
   ],
   "source": [
    "statistic = result[0]\n",
    "statistic"
   ]
  },
  {
   "cell_type": "code",
   "execution_count": 34,
   "metadata": {},
   "outputs": [
    {
     "data": {
      "text/plain": [
       "0.8034942543245844"
      ]
     },
     "execution_count": 34,
     "metadata": {},
     "output_type": "execute_result"
    }
   ],
   "source": [
    "p_value = result[1]\n",
    "p_value"
   ]
  },
  {
   "cell_type": "code",
   "execution_count": null,
   "metadata": {},
   "outputs": [],
   "source": []
  },
  {
   "cell_type": "code",
   "execution_count": null,
   "metadata": {},
   "outputs": [],
   "source": []
  }
 ],
 "metadata": {
  "kernelspec": {
   "display_name": "Python 3",
   "language": "python",
   "name": "python3"
  },
  "language_info": {
   "codemirror_mode": {
    "name": "ipython",
    "version": 3
   },
   "file_extension": ".py",
   "mimetype": "text/x-python",
   "name": "python",
   "nbconvert_exporter": "python",
   "pygments_lexer": "ipython3",
   "version": "3.7.7"
  }
 },
 "nbformat": 4,
 "nbformat_minor": 4
}
