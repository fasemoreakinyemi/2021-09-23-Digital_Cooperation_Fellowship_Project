{
 "cells": [
  {
   "cell_type": "code",
   "execution_count": 1,
   "metadata": {},
   "outputs": [],
   "source": [
    "# Import libraries\n",
    "import matplotlib.pyplot as plt\n",
    "import pandas as pd\n",
    "import seaborn as sns\n",
    "from collections import OrderedDict\n",
    "sns.set(style=\"darkgrid\")"
   ]
  },
  {
   "cell_type": "code",
   "execution_count": 2,
   "metadata": {},
   "outputs": [
    {
     "data": {
      "text/plain": [
       "106"
      ]
     },
     "execution_count": 2,
     "metadata": {},
     "output_type": "execute_result"
    }
   ],
   "source": [
    "# load datasest\n",
    "df = pd.read_excel(\"./data/2nd_Dataset_IgM_Rapid_Test-ELISA_Raw_Data.xlsx\", header=0, comment=\"#\")\n",
    "len(df)"
   ]
  },
  {
   "cell_type": "code",
   "execution_count": 3,
   "metadata": {},
   "outputs": [
    {
     "data": {
      "text/plain": [
       "87"
      ]
     },
     "execution_count": 3,
     "metadata": {},
     "output_type": "execute_result"
    }
   ],
   "source": [
    "# further cleanup\n",
    "indexNames = df[df['Age'] == 'NS'].index\n",
    " \n",
    "# Delete these row indexes from dataFrame\n",
    "df.drop(indexNames , inplace=True)\n",
    "\n",
    "# set age to numeric\n",
    "df[\"Age\"] = df[\"Age\"].astype(int)\n",
    "\n",
    "# bin ages\n",
    "df[\"Age bin\"] = pd.cut(x=df['Age'], \n",
    "                       bins=[10, 20, 29, 39, 49, 59, 69, 79, 89], \n",
    "                       labels=['10s', '20s', '30s', '40s', '50s','60s', '70s', '80s'])\n",
    "\n",
    "# remove unwanted spaces\n",
    "\n",
    "df[\" IgM/Pos.\"] = df[\" IgM/Pos.\"].str.replace(' ', '')\n",
    "\n",
    "# remove empty cells\n",
    "df = df.dropna(axis=0)\n",
    "len(df)"
   ]
  },
  {
   "cell_type": "code",
   "execution_count": 4,
   "metadata": {},
   "outputs": [],
   "source": [
    "# create class column\n",
    "def get_class(row):\n",
    "    wanted = row[\"lab-ID\"]\n",
    "    return wanted.split(\"-\")[0]\n",
    "\n",
    "df[\"status\"] = df.apply(get_class, axis=1)\n",
    "\n",
    "# create target column\n",
    "def encode_symptoms(row):\n",
    "    wanted = row[\"Symptoms\"]\n",
    "    if str(wanted) == \"no\":\n",
    "        return 0\n",
    "    return 1\n",
    "\n",
    "df[\"target\"] = df.apply(encode_symptoms, axis=1)\n",
    "\n",
    "\n",
    "# create target column\n",
    "def encode_symptoms(row):\n",
    "    wanted = row[\"Symptoms\"]\n",
    "    if str(wanted) == \"no\":\n",
    "        return \"no\"\n",
    "    return \"yes\"\n",
    "\n",
    "df[\"symptoms_presence\"] = df.apply(encode_symptoms, axis=1)"
   ]
  },
  {
   "cell_type": "code",
   "execution_count": 5,
   "metadata": {},
   "outputs": [
    {
     "name": "stdout",
     "output_type": "stream",
     "text": [
      "status | number_of_participants\n",
      "--------------------------\n",
      "high_elisa_od | 14\n",
      "--------------------------\n",
      "low_elisa_od | 73\n",
      "--------------------------\n",
      "high_rapid_test_int | 12\n",
      "--------------------------\n",
      "low_rapid_test_int | 75\n"
     ]
    }
   ],
   "source": [
    "# Classify status\n",
    "\n",
    "high_od_elisa = df[df[\"E-IgM/ODs\"] >= 0.5]\n",
    "high_int_rapid_test = df[df[\"IgM/b-intin. value\"] >= 10]\n",
    "low_od_elisa  = df[df[\"E-IgM/ODs\"] < 0.5]\n",
    "low_int_rapid_test = df[df[\"IgM/b-intin. value\"] < 10]\n",
    "\n",
    "print(\"status | number_of_participants\")\n",
    "print(\"--------------------------\")\n",
    "print(f\"high_elisa_od | {len(high_od_elisa)}\")\n",
    "print(\"--------------------------\")\n",
    "print(f\"low_elisa_od | {len(low_od_elisa)}\")\n",
    "print(\"--------------------------\")\n",
    "print(f\"high_rapid_test_int | {len(high_int_rapid_test)}\")\n",
    "print(\"--------------------------\")\n",
    "print(f\"low_rapid_test_int | {len(low_int_rapid_test)}\")\n",
    "\n",
    "\n"
   ]
  },
  {
   "cell_type": "code",
   "execution_count": 52,
   "metadata": {},
   "outputs": [
    {
     "data": {
      "image/png": "[encoded data removed]",
      "text/plain": [
       "<Figure size 432x288 with 1 Axes>"
      ]
     },
     "metadata": {},
     "output_type": "display_data"
    }
   ],
   "source": [
    "labels = ['Elisa', 'Rapid test']\n",
    "high = [len(high_od_elisa), len(high_int_rapid_test)]\n",
    "low = [len(low_od_elisa), len(low_int_rapid_test)]\n",
    "width = 0.35 \n",
    "\n",
    "\n",
    "fig, ax = plt.subplots()\n",
    "\n",
    "ax.bar(labels, low, width,\n",
    "       label='below cutoff')\n",
    "ax.bar(labels, high, width, bottom=low, label='above cutoff')\n",
    "ax.set_ylabel('Count')\n",
    "ax.legend(title='Status', bbox_to_anchor=(1.05, 1), loc='upper left')\n",
    "\n",
    "for i, rect in enumerate(ax.patches):\n",
    "    # Find where everything is located\n",
    "    height = rect.get_height()\n",
    "    width = rect.get_width()\n",
    "    x = rect.get_x()\n",
    "    y = rect.get_y()\n",
    "\n",
    "    # The height of the bar is the count value and can used as the label\n",
    "    label_text = f'{height:.0f}'\n",
    "\n",
    "    label_x = x + width / 2\n",
    "    label_y = y + height / 2\n",
    "\n",
    "    # don't include label if it's equivalently 0\n",
    "    if height > 0.001:\n",
    "        ax.text(label_x, label_y, label_text, ha='center', va='center', fontsize=14)\n",
    "\n",
    "plt.show()"
   ]
  },
  {
   "cell_type": "code",
   "execution_count": 26,
   "metadata": {},
   "outputs": [],
   "source": [
    "def plot_symptoms_status(df_slice):\n",
    "    count_dict = dict(df_slice[\"symptoms_presence\"].value_counts())\n",
    "    ax = sns.countplot(x=\"symptoms_presence\", data=df_slice, order=[\"no\", \"yes\"])\n",
    "    for index, text in enumerate(ax.get_xticklabels()):\n",
    "        label = count_dict[text.get_text()]\n",
    "        ax.text(index,\n",
    "                label + 0.1,\n",
    "                str(label),\n",
    "                horizontalalignment='center',\n",
    "                size='medium',\n",
    "                color='black',\n",
    "                weight='normal')\n",
    "    return plt.show()\n",
    "    "
   ]
  },
  {
   "cell_type": "code",
   "execution_count": 7,
   "metadata": {},
   "outputs": [
    {
     "name": "stdout",
     "output_type": "stream",
     "text": [
      "High ELISA od\n"
     ]
    },
    {
     "data": {
      "image/png": "[encoded data removed]",
      "text/plain": [
       "<Figure size 432x288 with 1 Axes>"
      ]
     },
     "metadata": {},
     "output_type": "display_data"
    }
   ],
   "source": [
    "# symptoms status in high elisa od particpants\n",
    "print(\"High ELISA od\")\n",
    "plot_symptoms_status(high_od_elisa)\n"
   ]
  },
  {
   "cell_type": "code",
   "execution_count": 8,
   "metadata": {},
   "outputs": [
    {
     "name": "stdout",
     "output_type": "stream",
     "text": [
      "Low ELISA od\n"
     ]
    },
    {
     "data": {
      "image/png": "[encoded data removed]",
      "text/plain": [
       "<Figure size 432x288 with 1 Axes>"
      ]
     },
     "metadata": {},
     "output_type": "display_data"
    }
   ],
   "source": [
    "# symptoms status in low elisa od particpants\n",
    "print(\"Low ELISA od\")\n",
    "plot_symptoms_status(low_od_elisa)"
   ]
  },
  {
   "cell_type": "code",
   "execution_count": 9,
   "metadata": {},
   "outputs": [
    {
     "data": {
      "text/plain": [
       "Ttest_indResult(statistic=-11.553141339189166, pvalue=4.1262323901140923e-19)"
      ]
     },
     "execution_count": 9,
     "metadata": {},
     "output_type": "execute_result"
    }
   ],
   "source": [
    "# t test\n",
    "# mean of elisa od in low od patients  \n",
    "# is equal to mean of elisa od in high od patients\n",
    "\n",
    "from scipy import stats\n",
    "low_od = low_od_elisa[\"E-IgM/Ods\"]\n",
    "high_od = high_od_elisa[\"E-IgM/Ods\"]\n",
    "\n",
    "t_test = stats.ttest_ind(low_od, high_od)\n",
    "t_test"
   ]
  },
  {
   "cell_type": "code",
   "execution_count": 10,
   "metadata": {},
   "outputs": [
    {
     "data": {
      "text/plain": [
       "Ttest_indResult(statistic=1.3525954479071787, pvalue=0.17977219856054807)"
      ]
     },
     "execution_count": 10,
     "metadata": {},
     "output_type": "execute_result"
    }
   ],
   "source": [
    "# t test\n",
    "# mean of elisa od in symtomatic patients \n",
    "# is equal to mean of elisa od in asymptomatic patients\n",
    "\n",
    "from scipy import stats\n",
    "symptoms_absent = df[df[\"symptoms_presence\"] == \"no\"][\"E-IgM/Ods\"]\n",
    "symptoms_present = df[df[\"symptoms_presence\"] == \"yes\"][\"E-IgM/Ods\"]\n",
    "\n",
    "t_test = stats.ttest_ind(symptoms_absent, symptoms_present)\n",
    "t_test"
   ]
  },
  {
   "cell_type": "code",
   "execution_count": 12,
   "metadata": {},
   "outputs": [
    {
     "data": {
      "text/plain": [
       "Ttest_indResult(statistic=-1.4385859735540023, pvalue=0.15466160572828064)"
      ]
     },
     "execution_count": 12,
     "metadata": {},
     "output_type": "execute_result"
    }
   ],
   "source": [
    "# t test\n",
    "# mean of elisa od in symtomatic patients wit low titre \n",
    "# is equal to mean of elisa od in asymptomatic patients with low titre\n",
    "\n",
    "from scipy import stats\n",
    "symptoms_absent = low_od_elisa[low_od_elisa[\"symptoms_presence\"] == \"no\"][\"E-IgM/Ods\"]\n",
    "symptoms_present = low_od_elisa[low_od_elisa[\"symptoms_presence\"] == \"yes\"][\"E-IgM/Ods\"]\n",
    "\n",
    "t_test = stats.ttest_ind(symptoms_absent, symptoms_present)\n",
    "t_test"
   ]
  },
  {
   "cell_type": "code",
   "execution_count": 13,
   "metadata": {},
   "outputs": [
    {
     "data": {
      "text/plain": [
       "Ttest_indResult(statistic=-0.26701951830941456, pvalue=0.7939876421805823)"
      ]
     },
     "execution_count": 13,
     "metadata": {},
     "output_type": "execute_result"
    }
   ],
   "source": [
    "# t test\n",
    "# mean of elisa od in symtomatic patients wit high titre \n",
    "# is equal to mean of elisa od in asymptomatic patients with high titre\n",
    "\n",
    "from scipy import stats\n",
    "symptoms_absent = high_od_elisa[high_od_elisa[\"symptoms_presence\"] == \"no\"][\"E-IgM/Ods\"]\n",
    "symptoms_present = high_od_elisa[high_od_elisa[\"symptoms_presence\"] == \"yes\"][\"E-IgM/Ods\"]\n",
    "\n",
    "t_test = stats.ttest_ind(symptoms_absent, symptoms_present)\n",
    "t_test"
   ]
  },
  {
   "cell_type": "markdown",
   "metadata": {},
   "source": [
    "## Rapid test"
   ]
  },
  {
   "cell_type": "code",
   "execution_count": 15,
   "metadata": {},
   "outputs": [
    {
     "name": "stdout",
     "output_type": "stream",
     "text": [
      "High Rapid test intensity\n"
     ]
    },
    {
     "data": {
      "image/png": "[encoded data removed]",
      "text/plain": [
       "<Figure size 432x288 with 1 Axes>"
      ]
     },
     "metadata": {},
     "output_type": "display_data"
    }
   ],
   "source": [
    "# symptoms status in high rapid test particpants\n",
    "print(\"High Rapid test intensity\")\n",
    "plot_symptoms_status(high_int_rapid_test)"
   ]
  },
  {
   "cell_type": "code",
   "execution_count": 16,
   "metadata": {},
   "outputs": [
    {
     "name": "stdout",
     "output_type": "stream",
     "text": [
      "Low Rapid test intensity\n"
     ]
    },
    {
     "data": {
      "image/png": "[encoded data removed]",
      "text/plain": [
       "<Figure size 432x288 with 1 Axes>"
      ]
     },
     "metadata": {},
     "output_type": "display_data"
    }
   ],
   "source": [
    "# symptoms status in low rapid test particpants\n",
    "print(\"Low Rapid test intensity\")\n",
    "plot_symptoms_status(low_int_rapid_test)"
   ]
  },
  {
   "cell_type": "code",
   "execution_count": null,
   "metadata": {},
   "outputs": [],
   "source": []
  },
  {
   "cell_type": "code",
   "execution_count": null,
   "metadata": {},
   "outputs": [],
   "source": []
  }
 ],
 "metadata": {
  "kernelspec": {
   "display_name": "Python 3",
   "language": "python",
   "name": "python3"
  },
  "language_info": {
   "codemirror_mode": {
    "name": "ipython",
    "version": 3
   },
   "file_extension": ".py",
   "mimetype": "text/x-python",
   "name": "python",
   "nbconvert_exporter": "python",
   "pygments_lexer": "ipython3",
   "version": "3.7.7"
  }
 },
 "nbformat": 4,
 "nbformat_minor": 4
}
