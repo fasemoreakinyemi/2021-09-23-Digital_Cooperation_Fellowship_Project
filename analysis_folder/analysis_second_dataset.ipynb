{
 "cells": [
  {
   "cell_type": "code",
   "execution_count": 38,
   "metadata": {},
   "outputs": [],
   "source": [
    "# Import libraries\n",
    "import pandas as pd\n",
    "import seaborn as sns\n",
    "\n",
    "from sklearn.preprocessing import OneHotEncoder, StandardScaler, LabelEncoder\n",
    "from sklearn.model_selection import train_test_split\n",
    "from sklearn.model_selection import cross_val_score\n",
    "from sklearn.model_selection import GridSearchCV\n",
    "from sklearn.dummy import DummyClassifier\n",
    "\n",
    "# classifiers\n",
    "from sklearn.neural_network import MLPClassifier\n",
    "from sklearn.neighbors import KNeighborsClassifier\n",
    "from sklearn.svm import SVC\n",
    "from sklearn.gaussian_process.kernels import RBF\n",
    "from sklearn.tree import DecisionTreeClassifier\n",
    "from sklearn.ensemble import RandomForestClassifier, AdaBoostClassifier\n",
    "from sklearn.naive_bayes import GaussianNB\n",
    "\n",
    "# evaluation\n",
    "from sklearn.metrics import classification_report, confusion_matrix, accuracy_score\n",
    "\n",
    "from scipy.stats import chisquare, chi2_contingency"
   ]
  },
  {
   "cell_type": "code",
   "execution_count": 39,
   "metadata": {},
   "outputs": [
    {
     "data": {
      "text/plain": [
       "106"
      ]
     },
     "execution_count": 39,
     "metadata": {},
     "output_type": "execute_result"
    }
   ],
   "source": [
    "# load datasest\n",
    "df = pd.read_excel(\"./data/2nd_Dataset_IgM_Rapid_Test-ELISA_Raw_Data.xlsx\", header=0, comment=\"#\")\n",
    "len(df)"
   ]
  },
  {
   "cell_type": "code",
   "execution_count": 40,
   "metadata": {},
   "outputs": [],
   "source": [
    "# further cleanup\n",
    "indexNames = df[df['Age'] == 'NS'].index\n",
    " \n",
    "# Delete these row indexes from dataFrame\n",
    "df.drop(indexNames , inplace=True)\n",
    "\n",
    "# set age to numeric\n",
    "df[\"Age\"] = df[\"Age\"].astype(int)\n",
    "\n",
    "# bin ages\n",
    "df[\"Age bin\"] = pd.cut(x=df['Age'], \n",
    "                       bins=[10, 20, 29, 39, 49, 59, 69, 79, 89], \n",
    "                       labels=['10s', '20s', '30s', '40s', '50s','60s', '70s', '80s'])\n",
    "\n",
    "# remove unwanted spaces\n",
    "\n",
    "df[\" IgM/Pos.\"] = df[\" IgM/Pos.\"].str.replace(' ', '')"
   ]
  },
  {
   "cell_type": "code",
   "execution_count": 41,
   "metadata": {},
   "outputs": [
    {
     "data": {
      "text/plain": [
       "87"
      ]
     },
     "execution_count": 41,
     "metadata": {},
     "output_type": "execute_result"
    }
   ],
   "source": [
    "# remove empty cells\n",
    "df = df.dropna(axis=0)\n",
    "len(df)"
   ]
  },
  {
   "cell_type": "code",
   "execution_count": 42,
   "metadata": {},
   "outputs": [],
   "source": [
    "# create class column\n",
    "def get_class(row):\n",
    "    wanted = row[\"lab-ID\"]\n",
    "    return wanted.split(\"-\")[0]\n",
    "\n",
    "df[\"status\"] = df.apply(get_class, axis=1)\n",
    "\n",
    "# create target column\n",
    "def encode_symptoms(row):\n",
    "    wanted = row[\"Symptoms\"]\n",
    "    if str(wanted) == \"no\":\n",
    "        return 0\n",
    "    return 1\n",
    "\n",
    "df[\"target\"] = df.apply(encode_symptoms, axis=1)"
   ]
  },
  {
   "cell_type": "code",
   "execution_count": 7,
   "metadata": {},
   "outputs": [
    {
     "data": {
      "text/html": [
       "<style  type=\"text/css\" >\n",
       "#T_bf6497aa_2b3a_11ec_b079_7b0cc79d39f9row0_col0,#T_bf6497aa_2b3a_11ec_b079_7b0cc79d39f9row1_col1,#T_bf6497aa_2b3a_11ec_b079_7b0cc79d39f9row2_col2{\n",
       "            background-color:  #08306b;\n",
       "            color:  #f1f1f1;\n",
       "        }#T_bf6497aa_2b3a_11ec_b079_7b0cc79d39f9row0_col1,#T_bf6497aa_2b3a_11ec_b079_7b0cc79d39f9row1_col0{\n",
       "            background-color:  #083471;\n",
       "            color:  #f1f1f1;\n",
       "        }#T_bf6497aa_2b3a_11ec_b079_7b0cc79d39f9row0_col2{\n",
       "            background-color:  #f2f8fd;\n",
       "            color:  #000000;\n",
       "        }#T_bf6497aa_2b3a_11ec_b079_7b0cc79d39f9row1_col2,#T_bf6497aa_2b3a_11ec_b079_7b0cc79d39f9row2_col0,#T_bf6497aa_2b3a_11ec_b079_7b0cc79d39f9row2_col1{\n",
       "            background-color:  #f7fbff;\n",
       "            color:  #000000;\n",
       "        }</style><table id=\"T_bf6497aa_2b3a_11ec_b079_7b0cc79d39f9\" ><thead>    <tr>        <th class=\"blank level0\" ></th>        <th class=\"col_heading level0 col0\" >E-IgM/ODs</th>        <th class=\"col_heading level0 col1\" > IgM</th>        <th class=\"col_heading level0 col2\" > IgM.1</th>    </tr></thead><tbody>\n",
       "                <tr>\n",
       "                        <th id=\"T_bf6497aa_2b3a_11ec_b079_7b0cc79d39f9level0_row0\" class=\"row_heading level0 row0\" >E-IgM/ODs</th>\n",
       "                        <td id=\"T_bf6497aa_2b3a_11ec_b079_7b0cc79d39f9row0_col0\" class=\"data row0 col0\" >1.000000</td>\n",
       "                        <td id=\"T_bf6497aa_2b3a_11ec_b079_7b0cc79d39f9row0_col1\" class=\"data row0 col1\" >0.999248</td>\n",
       "                        <td id=\"T_bf6497aa_2b3a_11ec_b079_7b0cc79d39f9row0_col2\" class=\"data row0 col2\" >0.961280</td>\n",
       "            </tr>\n",
       "            <tr>\n",
       "                        <th id=\"T_bf6497aa_2b3a_11ec_b079_7b0cc79d39f9level0_row1\" class=\"row_heading level0 row1\" > IgM</th>\n",
       "                        <td id=\"T_bf6497aa_2b3a_11ec_b079_7b0cc79d39f9row1_col0\" class=\"data row1 col0\" >0.999248</td>\n",
       "                        <td id=\"T_bf6497aa_2b3a_11ec_b079_7b0cc79d39f9row1_col1\" class=\"data row1 col1\" >1.000000</td>\n",
       "                        <td id=\"T_bf6497aa_2b3a_11ec_b079_7b0cc79d39f9row1_col2\" class=\"data row1 col2\" >0.960344</td>\n",
       "            </tr>\n",
       "            <tr>\n",
       "                        <th id=\"T_bf6497aa_2b3a_11ec_b079_7b0cc79d39f9level0_row2\" class=\"row_heading level0 row2\" > IgM.1</th>\n",
       "                        <td id=\"T_bf6497aa_2b3a_11ec_b079_7b0cc79d39f9row2_col0\" class=\"data row2 col0\" >0.961280</td>\n",
       "                        <td id=\"T_bf6497aa_2b3a_11ec_b079_7b0cc79d39f9row2_col1\" class=\"data row2 col1\" >0.960344</td>\n",
       "                        <td id=\"T_bf6497aa_2b3a_11ec_b079_7b0cc79d39f9row2_col2\" class=\"data row2 col2\" >1.000000</td>\n",
       "            </tr>\n",
       "    </tbody></table>"
      ],
      "text/plain": [
       "<pandas.io.formats.style.Styler at 0x7f19812d5550>"
      ]
     },
     "execution_count": 7,
     "metadata": {},
     "output_type": "execute_result"
    }
   ],
   "source": [
    "# visualize if measurements are indeed equal transformations\n",
    "temp_df = df[[\"E-IgM/ODs\", \" IgM\", \" IgM.1\"]]\n",
    "temp_df.corr().style.background_gradient(cmap=\"Blues\")"
   ]
  },
  {
   "cell_type": "code",
   "execution_count": 51,
   "metadata": {},
   "outputs": [
    {
     "data": {
      "text/plain": [
       "array([[<AxesSubplot:title={'center':'E-IgM/ODs'}>]], dtype=object)"
      ]
     },
     "execution_count": 51,
     "metadata": {},
     "output_type": "execute_result"
    },
    {
     "data": {
      "image/png": "[encoded data removed]",
      "text/plain": [
       "<Figure size 432x288 with 1 Axes>"
      ]
     },
     "metadata": {
      "needs_background": "light"
     },
     "output_type": "display_data"
    }
   ],
   "source": [
    "# visualize distributions of measurements\n",
    "df.hist(\"E-IgM/ODs\")"
   ]
  },
  {
   "cell_type": "code",
   "execution_count": 52,
   "metadata": {},
   "outputs": [
    {
     "data": {
      "text/plain": [
       "array([[<AxesSubplot:title={'center':'Age'}>]], dtype=object)"
      ]
     },
     "execution_count": 52,
     "metadata": {},
     "output_type": "execute_result"
    },
    {
     "data": {
      "image/png": "[encoded data removed]",
      "text/plain": [
       "<Figure size 432x288 with 1 Axes>"
      ]
     },
     "metadata": {
      "needs_background": "light"
     },
     "output_type": "display_data"
    }
   ],
   "source": [
    "df.hist(\"Age\")"
   ]
  },
  {
   "cell_type": "code",
   "execution_count": 63,
   "metadata": {},
   "outputs": [
    {
     "data": {
      "text/plain": [
       "<AxesSubplot:xlabel='status', ylabel='E-IgM/ODs'>"
      ]
     },
     "execution_count": 63,
     "metadata": {},
     "output_type": "execute_result"
    },
    {
     "data": {
      "image/png": "[encoded data removed]",
      "text/plain": [
       "<Figure size 432x288 with 1 Axes>"
      ]
     },
     "metadata": {
      "needs_background": "light"
     },
     "output_type": "display_data"
    }
   ],
   "source": [
    "sns.violinplot(y=\"E-IgM/ODs\", x=\"status\", data=df)"
   ]
  },
  {
   "cell_type": "code",
   "execution_count": 64,
   "metadata": {},
   "outputs": [
    {
     "data": {
      "text/plain": [
       "<AxesSubplot:xlabel='Age bin', ylabel='E-IgM/ODs'>"
      ]
     },
     "execution_count": 64,
     "metadata": {},
     "output_type": "execute_result"
    },
    {
     "data": {
      "image/png": "[encoded data removed]",
      "text/plain": [
       "<Figure size 432x288 with 1 Axes>"
      ]
     },
     "metadata": {
      "needs_background": "light"
     },
     "output_type": "display_data"
    }
   ],
   "source": [
    "sns.violinplot(y=\"E-IgM/ODs\", x=\"Age bin\", data=df)"
   ]
  },
  {
   "cell_type": "code",
   "execution_count": 76,
   "metadata": {},
   "outputs": [
    {
     "data": {
      "text/plain": [
       "<AxesSubplot:xlabel='Gender', ylabel='count'>"
      ]
     },
     "execution_count": 76,
     "metadata": {},
     "output_type": "execute_result"
    },
    {
     "data": {
      "image/png": "[encoded data removed]",
      "text/plain": [
       "<Figure size 432x288 with 1 Axes>"
      ]
     },
     "metadata": {
      "needs_background": "light"
     },
     "output_type": "display_data"
    }
   ],
   "source": [
    "sns.countplot(x=\"Gender\", data=df)"
   ]
  },
  {
   "cell_type": "code",
   "execution_count": 80,
   "metadata": {},
   "outputs": [
    {
     "data": {
      "text/plain": [
       "<AxesSubplot:xlabel='Age bin'>"
      ]
     },
     "execution_count": 80,
     "metadata": {},
     "output_type": "execute_result"
    },
    {
     "data": {
      "image/png": "[encoded data removed]",
      "text/plain": [
       "<Figure size 432x288 with 1 Axes>"
      ]
     },
     "metadata": {
      "needs_background": "light"
     },
     "output_type": "display_data"
    }
   ],
   "source": [
    "pd.crosstab(df[\"Age bin\"], df[\"target\"]).plot(kind=\"bar\")"
   ]
  },
  {
   "cell_type": "code",
   "execution_count": 81,
   "metadata": {},
   "outputs": [
    {
     "data": {
      "text/plain": [
       "<AxesSubplot:xlabel='Gender'>"
      ]
     },
     "execution_count": 81,
     "metadata": {},
     "output_type": "execute_result"
    },
    {
     "data": {
      "image/png": "[encoded data removed]",
      "text/plain": [
       "<Figure size 432x288 with 1 Axes>"
      ]
     },
     "metadata": {
      "needs_background": "light"
     },
     "output_type": "display_data"
    }
   ],
   "source": [
    "pd.crosstab(df[\"Gender\"], df[\"target\"]).plot(kind=\"bar\")"
   ]
  },
  {
   "cell_type": "code",
   "execution_count": 82,
   "metadata": {},
   "outputs": [
    {
     "data": {
      "text/plain": [
       "<AxesSubplot:xlabel='status'>"
      ]
     },
     "execution_count": 82,
     "metadata": {},
     "output_type": "execute_result"
    },
    {
     "data": {
      "image/png": "[encoded data removed]",
      "text/plain": [
       "<Figure size 432x288 with 1 Axes>"
      ]
     },
     "metadata": {
      "needs_background": "light"
     },
     "output_type": "display_data"
    }
   ],
   "source": [
    "pd.crosstab(df[\"status\"], df[\"target\"]).plot(kind=\"bar\")"
   ]
  },
  {
   "cell_type": "code",
   "execution_count": 84,
   "metadata": {},
   "outputs": [
    {
     "data": {
      "text/plain": [
       "<AxesSubplot:xlabel=' IgM/b-intin.'>"
      ]
     },
     "execution_count": 84,
     "metadata": {},
     "output_type": "execute_result"
    },
    {
     "data": {
      "image/png": "[encoded data removed]",
      "text/plain": [
       "<Figure size 432x288 with 1 Axes>"
      ]
     },
     "metadata": {
      "needs_background": "light"
     },
     "output_type": "display_data"
    }
   ],
   "source": [
    "pd.crosstab(df[\" IgM/b-intin.\"], df[\"target\"]).plot(kind=\"bar\")"
   ]
  },
  {
   "cell_type": "code",
   "execution_count": 87,
   "metadata": {},
   "outputs": [
    {
     "data": {
      "text/plain": [
       "<AxesSubplot:xlabel=' IgM/Pos.'>"
      ]
     },
     "execution_count": 87,
     "metadata": {},
     "output_type": "execute_result"
    },
    {
     "data": {
      "image/png": "[encoded data removed]",
      "text/plain": [
       "<Figure size 432x288 with 1 Axes>"
      ]
     },
     "metadata": {
      "needs_background": "light"
     },
     "output_type": "display_data"
    }
   ],
   "source": [
    "pd.crosstab(df[\" IgM/Pos.\"], df[\"target\"]).plot(kind=\"bar\")"
   ]
  },
  {
   "cell_type": "code",
   "execution_count": 8,
   "metadata": {},
   "outputs": [
    {
     "name": "stdout",
     "output_type": "stream",
     "text": [
      "dummmy score: 0.45454545454545453\n",
      "RF accuracy: 0.5454545454545454\n"
     ]
    }
   ],
   "source": [
    "# Random forest classifier\n",
    "\n",
    "# target \n",
    "targets = df[\"target\"].values\n",
    "\n",
    "# encodings\n",
    "\n",
    "# bulk encodings\n",
    "\n",
    "wanted_columns = ['Gender', ' IgM/Pos.', \n",
    "                  ' IgM/b-intin.', 'status',\n",
    "                  'Age bin']\n",
    "df_wanted = df[wanted_columns]\n",
    "\n",
    "le = LabelEncoder()\n",
    "df_wanted_le = df_wanted.apply(le.fit_transform)\n",
    "\n",
    "ohe = OneHotEncoder()\n",
    "ohe.fit(df_wanted_le)\n",
    "input_df = ohe.transform(df_wanted_le).toarray()\n",
    "input_df.shape\n",
    "\n",
    "# Generate training and test sets\n",
    "\n",
    "X_train, X_test, y_train, y_test = train_test_split(input_df,\n",
    "                                                    targets,\n",
    "                                                    random_state=42)\n",
    "\n",
    "# Benchmark with dummy classifier\n",
    "\n",
    "dummy_clf = DummyClassifier(strategy=\"stratified\")\n",
    "dummy_clf.fit(X_train, y_train)\n",
    "print(\"dummmy score: {}\".format(dummy_clf.score(X_test, y_test)))\n",
    "\n",
    "# Random forest model\n",
    "\n",
    "model = RandomForestClassifier(n_jobs=2, random_state=42)\n",
    "model.fit(X_train, y_train)\n",
    "print(\"RF accuracy: {}\".format(model.score(X_test, y_test)))\n",
    "    "
   ]
  },
  {
   "cell_type": "code",
   "execution_count": 25,
   "metadata": {},
   "outputs": [
    {
     "name": "stdout",
     "output_type": "stream",
     "text": [
      "LR_numerical: 0.6363636363636364\n",
      "LR_categorical: 0.6818181818181818\n",
      "LR_both: 0.6818181818181818\n"
     ]
    }
   ],
   "source": [
    "# Logistic regression\n",
    "from sklearn.linear_model import LogisticRegression\n",
    "\n",
    "\n",
    "# only numerical variable\n",
    "dependent_var = [\"E-IgM/Ods\"]\n",
    "X_train, X_test, y_train, y_test = train_test_split(df[dependent_var].values ,\n",
    "                                                    df[\"target\"].values,\n",
    "                                                    random_state=42)\n",
    "clf = LogisticRegression(random_state=0).fit(X_train, y_train)\n",
    "print(\"LR_numerical: {}\".format(clf.score(X_test, y_test)))\n",
    "\n",
    "# all categorical variables\n",
    "new_df = pd.get_dummies(df_wanted, drop_first=True)\n",
    "X_train, X_test, y_train, y_test = train_test_split(new_df.values ,\n",
    "                                                    df[\"target\"].values,\n",
    "                                                    random_state=42)\n",
    "clf = LogisticRegression(random_state=0).fit(X_train, y_train)\n",
    "print(\"LR_categorical: {}\".format(clf.score(X_test, y_test)))\n",
    "\n",
    "# both\n",
    "new_df[\"E-IgM/Ods\"] = df[\"E-IgM/Ods\"]\n",
    "X_train, X_test, y_train, y_test = train_test_split(new_df.values ,\n",
    "                                                    df[\"target\"].values,\n",
    "                                                    random_state=42)\n",
    "clf = LogisticRegression(random_state=0).fit(X_train, y_train)\n",
    "print(\"LR_both: {}\".format(clf.score(X_test, y_test)))\n"
   ]
  },
  {
   "cell_type": "code",
   "execution_count": 57,
   "metadata": {},
   "outputs": [
    {
     "data": {
      "text/plain": [
       "Ttest_indResult(statistic=-2.222176288493547, pvalue=0.02892730300973166)"
      ]
     },
     "execution_count": 57,
     "metadata": {},
     "output_type": "execute_result"
    }
   ],
   "source": [
    "# t test\n",
    "\n",
    "from scipy import stats\n",
    "hss = df[df[\"status\"] == \"HSS\"][\"E-IgM/Ods\"]\n",
    "lss = df[df[\"status\"] == \"LSS\"][\"E-IgM/Ods\"]\n",
    "\n",
    "t_test = stats.ttest_ind(hss, lss)\n",
    "t_test"
   ]
  }
 ],
 "metadata": {
  "kernelspec": {
   "display_name": "Python 3",
   "language": "python",
   "name": "python3"
  },
  "language_info": {
   "codemirror_mode": {
    "name": "ipython",
    "version": 3
   },
   "file_extension": ".py",
   "mimetype": "text/x-python",
   "name": "python",
   "nbconvert_exporter": "python",
   "pygments_lexer": "ipython3",
   "version": "3.7.7"
  }
 },
 "nbformat": 4,
 "nbformat_minor": 4
}
