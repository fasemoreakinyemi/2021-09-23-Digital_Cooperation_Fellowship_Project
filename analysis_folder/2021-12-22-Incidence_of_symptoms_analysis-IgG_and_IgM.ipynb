{
 "cells": [
  {
   "cell_type": "code",
   "execution_count": 28,
   "metadata": {},
   "outputs": [],
   "source": [
    "# Import libraries\n",
    "import numpy as np\n",
    "import matplotlib.pyplot as plt\n",
    "import pandas as pd\n",
    "import seaborn as sns\n",
    "from collections import OrderedDict\n",
    "from sklearn.cluster import KMeans\n",
    "sns.set(style=\"darkgrid\")\n",
    "\n",
    "from sklearn.preprocessing import OneHotEncoder, StandardScaler, LabelEncoder\n",
    "from sklearn.model_selection import train_test_split\n",
    "from sklearn.model_selection import cross_val_score\n",
    "from sklearn.model_selection import GridSearchCV\n",
    "from sklearn.dummy import DummyClassifier\n",
    "\n",
    "# classifiers\n",
    "from sklearn.neural_network import MLPClassifier\n",
    "from sklearn.neighbors import KNeighborsClassifier\n",
    "from sklearn.svm import SVC\n",
    "from sklearn.gaussian_process.kernels import RBF\n",
    "from sklearn.tree import DecisionTreeClassifier\n",
    "from sklearn.ensemble import RandomForestClassifier, AdaBoostClassifier\n",
    "from sklearn.naive_bayes import GaussianNB\n",
    "\n",
    "# evaluation\n",
    "from sklearn.metrics import classification_report, confusion_matrix, accuracy_score\n",
    "\n",
    "from scipy.stats import chisquare, chi2_contingency"
   ]
  },
  {
   "cell_type": "code",
   "execution_count": 29,
   "metadata": {},
   "outputs": [
    {
     "data": {
      "text/plain": [
       "106"
      ]
     },
     "execution_count": 29,
     "metadata": {},
     "output_type": "execute_result"
    }
   ],
   "source": [
    "# load datasest\n",
    "df = pd.read_excel(\"./data/IgM-IgG_ELISA_Rapid_Test_Symptoms.xlsx\", header=0, comment=\"#\")\n",
    "len(df)"
   ]
  },
  {
   "cell_type": "code",
   "execution_count": 30,
   "metadata": {},
   "outputs": [],
   "source": [
    "df[\"IgG/Rt \"] = df[\"IgG/Rt \"].replace(\"N\", 0)"
   ]
  },
  {
   "cell_type": "code",
   "execution_count": 31,
   "metadata": {},
   "outputs": [
    {
     "data": {
      "text/html": [
       "<div>\n",
       "<style scoped>\n",
       "    .dataframe tbody tr th:only-of-type {\n",
       "        vertical-align: middle;\n",
       "    }\n",
       "\n",
       "    .dataframe tbody tr th {\n",
       "        vertical-align: top;\n",
       "    }\n",
       "\n",
       "    .dataframe thead th {\n",
       "        text-align: right;\n",
       "    }\n",
       "</style>\n",
       "<table border=\"1\" class=\"dataframe\">\n",
       "  <thead>\n",
       "    <tr style=\"text-align: right;\">\n",
       "      <th></th>\n",
       "      <th>lab-ID</th>\n",
       "      <th>Gender</th>\n",
       "      <th>Age</th>\n",
       "      <th>IgM/Rt</th>\n",
       "      <th>IgM/ODs</th>\n",
       "      <th>IgG/Rt</th>\n",
       "      <th>IgG/ODs</th>\n",
       "      <th>Sym. grade</th>\n",
       "      <th>Symptoms</th>\n",
       "    </tr>\n",
       "  </thead>\n",
       "  <tbody>\n",
       "    <tr>\n",
       "      <th>0</th>\n",
       "      <td>LSS-1</td>\n",
       "      <td>M</td>\n",
       "      <td>54</td>\n",
       "      <td>10</td>\n",
       "      <td>0.383</td>\n",
       "      <td>100.0</td>\n",
       "      <td>0.447</td>\n",
       "      <td>1.0</td>\n",
       "      <td>Headache, sorethroat</td>\n",
       "    </tr>\n",
       "    <tr>\n",
       "      <th>1</th>\n",
       "      <td>LSS-2</td>\n",
       "      <td>F</td>\n",
       "      <td>45</td>\n",
       "      <td>0</td>\n",
       "      <td>0.425</td>\n",
       "      <td>0.0</td>\n",
       "      <td>0.335</td>\n",
       "      <td>0.0</td>\n",
       "      <td>no</td>\n",
       "    </tr>\n",
       "    <tr>\n",
       "      <th>2</th>\n",
       "      <td>LSS-3</td>\n",
       "      <td>F</td>\n",
       "      <td>37</td>\n",
       "      <td>0</td>\n",
       "      <td>0.363</td>\n",
       "      <td>0.0</td>\n",
       "      <td>0.655</td>\n",
       "      <td>2.0</td>\n",
       "      <td>Fatigue, headache, abdominal pain, diarrhoea</td>\n",
       "    </tr>\n",
       "    <tr>\n",
       "      <th>3</th>\n",
       "      <td>LSS-4</td>\n",
       "      <td>M</td>\n",
       "      <td>40</td>\n",
       "      <td>0</td>\n",
       "      <td>0.498</td>\n",
       "      <td>0.0</td>\n",
       "      <td>0.305</td>\n",
       "      <td>0.0</td>\n",
       "      <td>no</td>\n",
       "    </tr>\n",
       "    <tr>\n",
       "      <th>4</th>\n",
       "      <td>LSS-5</td>\n",
       "      <td>M</td>\n",
       "      <td>50</td>\n",
       "      <td>0</td>\n",
       "      <td>0.363</td>\n",
       "      <td>10.0</td>\n",
       "      <td>0.334</td>\n",
       "      <td>0.0</td>\n",
       "      <td>no</td>\n",
       "    </tr>\n",
       "    <tr>\n",
       "      <th>...</th>\n",
       "      <td>...</td>\n",
       "      <td>...</td>\n",
       "      <td>...</td>\n",
       "      <td>...</td>\n",
       "      <td>...</td>\n",
       "      <td>...</td>\n",
       "      <td>...</td>\n",
       "      <td>...</td>\n",
       "      <td>...</td>\n",
       "    </tr>\n",
       "    <tr>\n",
       "      <th>101</th>\n",
       "      <td>HSS-102</td>\n",
       "      <td>F</td>\n",
       "      <td>40</td>\n",
       "      <td>0</td>\n",
       "      <td>0.560</td>\n",
       "      <td>0.0</td>\n",
       "      <td>0.875</td>\n",
       "      <td>1.0</td>\n",
       "      <td>Sorthroat, headache</td>\n",
       "    </tr>\n",
       "    <tr>\n",
       "      <th>102</th>\n",
       "      <td>HSS-103</td>\n",
       "      <td>F</td>\n",
       "      <td>37</td>\n",
       "      <td>5</td>\n",
       "      <td>0.318</td>\n",
       "      <td>10.0</td>\n",
       "      <td>1.044</td>\n",
       "      <td>1.0</td>\n",
       "      <td>Sorthroat</td>\n",
       "    </tr>\n",
       "    <tr>\n",
       "      <th>103</th>\n",
       "      <td>HSS-104</td>\n",
       "      <td>F</td>\n",
       "      <td>60</td>\n",
       "      <td>0</td>\n",
       "      <td>0.651</td>\n",
       "      <td>0.0</td>\n",
       "      <td>0.635</td>\n",
       "      <td>0.0</td>\n",
       "      <td>no</td>\n",
       "    </tr>\n",
       "    <tr>\n",
       "      <th>104</th>\n",
       "      <td>HSS-105</td>\n",
       "      <td>M</td>\n",
       "      <td>50</td>\n",
       "      <td>100</td>\n",
       "      <td>NaN</td>\n",
       "      <td>NaN</td>\n",
       "      <td>NaN</td>\n",
       "      <td>2.0</td>\n",
       "      <td>Fatigue, abdominal pain, anosmia, headache, di...</td>\n",
       "    </tr>\n",
       "    <tr>\n",
       "      <th>105</th>\n",
       "      <td>HSS-106</td>\n",
       "      <td>F</td>\n",
       "      <td>21</td>\n",
       "      <td>0</td>\n",
       "      <td>NaN</td>\n",
       "      <td>NaN</td>\n",
       "      <td>NaN</td>\n",
       "      <td>2.0</td>\n",
       "      <td>Fatigue, headache, cough, sorthroat</td>\n",
       "    </tr>\n",
       "  </tbody>\n",
       "</table>\n",
       "<p>106 rows × 9 columns</p>\n",
       "</div>"
      ],
      "text/plain": [
       "      lab-ID Gender Age  IgM/Rt   IgM/ODs  IgG/Rt   IgG/ODs  Sym. grade  \\\n",
       "0      LSS-1      M  54       10    0.383    100.0    0.447         1.0   \n",
       "1      LSS-2      F  45        0    0.425      0.0    0.335         0.0   \n",
       "2      LSS-3      F  37        0    0.363      0.0    0.655         2.0   \n",
       "3      LSS-4      M  40        0    0.498      0.0    0.305         0.0   \n",
       "4      LSS-5      M  50        0    0.363     10.0    0.334         0.0   \n",
       "..       ...    ...  ..      ...      ...      ...      ...         ...   \n",
       "101  HSS-102      F  40        0    0.560      0.0    0.875         1.0   \n",
       "102  HSS-103      F  37        5    0.318     10.0    1.044         1.0   \n",
       "103  HSS-104      F  60        0    0.651      0.0    0.635         0.0   \n",
       "104  HSS-105      M  50      100      NaN      NaN      NaN         2.0   \n",
       "105  HSS-106      F  21        0      NaN      NaN      NaN         2.0   \n",
       "\n",
       "                                              Symptoms  \n",
       "0                                 Headache, sorethroat  \n",
       "1                                                   no  \n",
       "2         Fatigue, headache, abdominal pain, diarrhoea  \n",
       "3                                                   no  \n",
       "4                                                   no  \n",
       "..                                                 ...  \n",
       "101                                Sorthroat, headache  \n",
       "102                                          Sorthroat  \n",
       "103                                                 no  \n",
       "104  Fatigue, abdominal pain, anosmia, headache, di...  \n",
       "105                Fatigue, headache, cough, sorthroat  \n",
       "\n",
       "[106 rows x 9 columns]"
      ]
     },
     "execution_count": 31,
     "metadata": {},
     "output_type": "execute_result"
    }
   ],
   "source": [
    "df"
   ]
  },
  {
   "cell_type": "code",
   "execution_count": 32,
   "metadata": {},
   "outputs": [
    {
     "data": {
      "text/plain": [
       "89"
      ]
     },
     "execution_count": 32,
     "metadata": {},
     "output_type": "execute_result"
    }
   ],
   "source": [
    "# further cleanup\n",
    "indexNames = df[df['Age'] == 'NS'].index\n",
    " \n",
    "# Delete these row indexes from dataFrame\n",
    "df.drop(indexNames , inplace=True)\n",
    "\n",
    "# set age to numeric\n",
    "df[\"Age\"] = df[\"Age\"].astype(int)\n",
    "\n",
    "# bin ages\n",
    "df[\"Age bin\"] = pd.cut(x=df['Age'], \n",
    "                       bins=[10, 20, 29, 39, 49, 59, 69, 79, 89], \n",
    "                       labels=['10s', '20s', '30s', '40s', '50s','60s', '70s', '80s'])\n",
    "\n",
    "# remove unwanted spaces\n",
    "\n",
    "#df[\" IgM/Pos.\"] = df[\" IgM/Pos.\"].str.replace(' ', '')\n",
    "\n",
    "# remove empty cells\n",
    "df = df.dropna(axis=0)\n",
    "len(df)"
   ]
  },
  {
   "cell_type": "code",
   "execution_count": 33,
   "metadata": {},
   "outputs": [
    {
     "name": "stderr",
     "output_type": "stream",
     "text": [
      "<ipython-input-33-1c34afd9088b>:6: SettingWithCopyWarning: \n",
      "A value is trying to be set on a copy of a slice from a DataFrame.\n",
      "Try using .loc[row_indexer,col_indexer] = value instead\n",
      "\n",
      "See the caveats in the documentation: https://pandas.pydata.org/pandas-docs/stable/user_guide/indexing.html#returning-a-view-versus-a-copy\n",
      "  df[\"status\"] = df.apply(get_class, axis=1)\n",
      "<ipython-input-33-1c34afd9088b>:15: SettingWithCopyWarning: \n",
      "A value is trying to be set on a copy of a slice from a DataFrame.\n",
      "Try using .loc[row_indexer,col_indexer] = value instead\n",
      "\n",
      "See the caveats in the documentation: https://pandas.pydata.org/pandas-docs/stable/user_guide/indexing.html#returning-a-view-versus-a-copy\n",
      "  df[\"target\"] = df.apply(encode_symptoms, axis=1)\n",
      "<ipython-input-33-1c34afd9088b>:25: SettingWithCopyWarning: \n",
      "A value is trying to be set on a copy of a slice from a DataFrame.\n",
      "Try using .loc[row_indexer,col_indexer] = value instead\n",
      "\n",
      "See the caveats in the documentation: https://pandas.pydata.org/pandas-docs/stable/user_guide/indexing.html#returning-a-view-versus-a-copy\n",
      "  df[\"symptoms_presence\"] = df.apply(encode_symptoms, axis=1)\n"
     ]
    }
   ],
   "source": [
    "# create class column\n",
    "def get_class(row):\n",
    "    wanted = row[\"lab-ID\"]\n",
    "    return wanted.split(\"-\")[0]\n",
    "\n",
    "df[\"status\"] = df.apply(get_class, axis=1)\n",
    "\n",
    "# create target column\n",
    "def encode_symptoms(row):\n",
    "    wanted = row[\"Symptoms\"]\n",
    "    if str(wanted) == \"no\":\n",
    "        return 0\n",
    "    return 1\n",
    "\n",
    "df[\"target\"] = df.apply(encode_symptoms, axis=1)\n",
    "\n",
    "\n",
    "# create target column\n",
    "def encode_symptoms(row):\n",
    "    wanted = row[\"Symptoms\"]\n",
    "    if str(wanted) == \"no\":\n",
    "        return \"no\"\n",
    "    return \"yes\"\n",
    "\n",
    "df[\"symptoms_presence\"] = df.apply(encode_symptoms, axis=1)"
   ]
  },
  {
   "cell_type": "code",
   "execution_count": 34,
   "metadata": {},
   "outputs": [
    {
     "name": "stdout",
     "output_type": "stream",
     "text": [
      "status | number_of_participants\n",
      "--------------------------\n",
      "high_od_IgM | 17\n",
      "--------------------------\n",
      "low_od_IgM | 72\n",
      "--------------------------\n",
      "high_od_IgG | 58\n",
      "--------------------------\n",
      "low_od_IgG | 31\n"
     ]
    }
   ],
   "source": [
    "# Classify status\n",
    "\n",
    "high_od_IgM = df[df[\"IgM/ODs\"] > 0.498]\n",
    "low_od_IgM = df[df[\"IgM/ODs\"] <= 0.498]\n",
    "high_od_IgG = df[df[\"IgG/ODs\"] > 0.542]\n",
    "low_od_IgG = df[df[\"IgG/ODs\"] <= 0.542]\n",
    "\n",
    "print(\"status | number_of_participants\")\n",
    "print(\"--------------------------\")\n",
    "print(f\"high_od_IgM | {len(high_od_IgM)}\")\n",
    "print(\"--------------------------\")\n",
    "print(f\"low_od_IgM | {len(low_od_IgM)}\")\n",
    "print(\"--------------------------\")\n",
    "print(f\"high_od_IgG | {len(high_od_IgG)}\")\n",
    "print(\"--------------------------\")\n",
    "print(f\"low_od_IgG | {len(low_od_IgG)}\")\n",
    "\n",
    "\n"
   ]
  },
  {
   "cell_type": "code",
   "execution_count": 35,
   "metadata": {},
   "outputs": [
    {
     "data": {
      "image/png": "[encoded data removed]",
      "text/plain": [
       "<Figure size 432x288 with 1 Axes>"
      ]
     },
     "metadata": {},
     "output_type": "display_data"
    }
   ],
   "source": [
    "labels = ['IgM', 'IgG']\n",
    "high = [len(high_od_IgM), len(high_od_IgG)]\n",
    "low = [len(low_od_IgM), len(low_od_IgG)]\n",
    "width = 0.35 \n",
    "\n",
    "\n",
    "fig, ax = plt.subplots()\n",
    "\n",
    "ax.bar(labels, low, width,\n",
    "       label='below cutoff')\n",
    "ax.bar(labels, high, width, bottom=low, label='above cutoff')\n",
    "ax.set_ylabel('Count')\n",
    "ax.legend(title='Status', bbox_to_anchor=(1.05, 1), loc='upper left')\n",
    "\n",
    "for i, rect in enumerate(ax.patches):\n",
    "    # Find where everything is located\n",
    "    height = rect.get_height()\n",
    "    width = rect.get_width()\n",
    "    x = rect.get_x()\n",
    "    y = rect.get_y()\n",
    "\n",
    "    # The height of the bar is the count value and can used as the label\n",
    "    label_text = f'{height:.0f}'\n",
    "\n",
    "    label_x = x + width / 2\n",
    "    label_y = y + height / 2\n",
    "\n",
    "    # don't include label if it's equivalently 0\n",
    "    if height > 0.001:\n",
    "        ax.text(label_x, label_y, label_text, ha='center', va='center', fontsize=14)\n",
    "\n",
    "plt.show()"
   ]
  },
  {
   "cell_type": "code",
   "execution_count": 36,
   "metadata": {},
   "outputs": [],
   "source": [
    "def plot_symptoms_status(df_slice):\n",
    "    count_dict = dict(df_slice[\"symptoms_presence\"].value_counts())\n",
    "    ax = sns.countplot(x=\"symptoms_presence\", data=df_slice, order=[\"no\", \"yes\"])\n",
    "   # ax.legend(title='Symptoms presence', bbox_to_anchor=(1.05, 1), loc='upper left')\n",
    "    for index, text in enumerate(ax.get_xticklabels()):\n",
    "        label = count_dict[text.get_text()]\n",
    "        ax.text(index,\n",
    "                label + 0.1,\n",
    "                str(label),\n",
    "                horizontalalignment='center',\n",
    "                size='medium',\n",
    "                color='black',\n",
    "                weight='normal')\n",
    "    return plt.show()\n",
    "    "
   ]
  },
  {
   "cell_type": "code",
   "execution_count": 37,
   "metadata": {},
   "outputs": [
    {
     "name": "stdout",
     "output_type": "stream",
     "text": [
      "High od IgM\n"
     ]
    },
    {
     "data": {
      "image/png": "[encoded data removed]",
      "text/plain": [
       "<Figure size 432x288 with 1 Axes>"
      ]
     },
     "metadata": {},
     "output_type": "display_data"
    }
   ],
   "source": [
    "# symptoms status in high od IgM particpants\n",
    "print(\"High od IgM\")\n",
    "plot_symptoms_status(high_od_IgM)\n"
   ]
  },
  {
   "cell_type": "code",
   "execution_count": 38,
   "metadata": {},
   "outputs": [
    {
     "name": "stdout",
     "output_type": "stream",
     "text": [
      "High od IgG\n"
     ]
    },
    {
     "data": {
      "image/png": "[encoded data removed]",
      "text/plain": [
       "<Figure size 432x288 with 1 Axes>"
      ]
     },
     "metadata": {},
     "output_type": "display_data"
    }
   ],
   "source": [
    "# symptoms status in high od IgG particpants\n",
    "print(\"High od IgG\")\n",
    "plot_symptoms_status(high_od_IgG)"
   ]
  },
  {
   "cell_type": "code",
   "execution_count": 39,
   "metadata": {},
   "outputs": [
    {
     "name": "stdout",
     "output_type": "stream",
     "text": [
      "low od IgM\n"
     ]
    },
    {
     "data": {
      "image/png": "[encoded data removed]",
      "text/plain": [
       "<Figure size 432x288 with 1 Axes>"
      ]
     },
     "metadata": {},
     "output_type": "display_data"
    }
   ],
   "source": [
    "# symptoms status in low od IgM particpants\n",
    "print(\"low od IgM\")\n",
    "plot_symptoms_status(low_od_IgM)"
   ]
  },
  {
   "cell_type": "code",
   "execution_count": 40,
   "metadata": {},
   "outputs": [
    {
     "name": "stdout",
     "output_type": "stream",
     "text": [
      "low od IgG\n"
     ]
    },
    {
     "data": {
      "image/png": "[encoded data removed]",
      "text/plain": [
       "<Figure size 432x288 with 1 Axes>"
      ]
     },
     "metadata": {},
     "output_type": "display_data"
    }
   ],
   "source": [
    "# symptoms status in low od IgG particpants\n",
    "print(\"low od IgG\")\n",
    "plot_symptoms_status(low_od_IgG)"
   ]
  },
  {
   "cell_type": "code",
   "execution_count": 41,
   "metadata": {},
   "outputs": [
    {
     "name": "stdout",
     "output_type": "stream",
     "text": [
      "dummmy score: 0.391304347826087\n",
      "RF accuracy: 0.5652173913043478\n"
     ]
    }
   ],
   "source": [
    "# create target \n",
    "targets = df[\"target\"].values\n",
    "\n",
    "# bulk encodings\n",
    "\n",
    "wanted_columns = [\"Gender\", \"status\",\n",
    "                  \"Age bin\"]\n",
    "df_wanted = df[wanted_columns]\n",
    "\n",
    "le = LabelEncoder()\n",
    "df_wanted_le = df_wanted.apply(le.fit_transform)\n",
    "df_wanted_le[\"IgG_ELISA\"] = df[\"IgG/ODs\"]\n",
    "df_wanted_le[\"IgM_ELISA\"] = df[\"IgM/ODs\"]\n",
    "df_wanted_le[\"IgM_rapid_test\"] = df[\"IgM/Rt \"]\n",
    "#df_wanted_le[\"IgG_rapid_test\"] = df[\"IgG/Rt \"]\n",
    "\n",
    "\n",
    "# Generate training and test sets wiht label encoding\n",
    "\n",
    "X_train, X_test, y_train, y_test = train_test_split(df_wanted_le,\n",
    "                                                    targets,\n",
    "                                                    random_state=42)\n",
    "\n",
    "# Benchmark with dummy classifier\n",
    "\n",
    "dummy_clf = DummyClassifier(strategy=\"stratified\")\n",
    "dummy_clf.fit(X_train, y_train)\n",
    "print(\"dummmy score: {}\".format(dummy_clf.score(X_test, y_test)))\n",
    "\n",
    "# Random forest model\n",
    "\n",
    "model = RandomForestClassifier(n_jobs=2, random_state=42)\n",
    "model.fit(X_train, y_train)\n",
    "print(\"RF accuracy: {}\".format(model.score(X_test, y_test)))"
   ]
  },
  {
   "cell_type": "code",
   "execution_count": 42,
   "metadata": {},
   "outputs": [
    {
     "data": {
      "text/plain": [
       "<AxesSubplot:>"
      ]
     },
     "execution_count": 42,
     "metadata": {},
     "output_type": "execute_result"
    },
    {
     "data": {
      "image/png": "[encoded data removed]",
      "text/plain": [
       "<Figure size 432x288 with 1 Axes>"
      ]
     },
     "metadata": {},
     "output_type": "display_data"
    }
   ],
   "source": [
    "# plot feature contribution to Random forest model\n",
    "importance = pd.Series(model.feature_importances_, index=df_wanted_le.columns)\n",
    "importance.nlargest(6).plot(kind='barh')"
   ]
  },
  {
   "cell_type": "code",
   "execution_count": 43,
   "metadata": {},
   "outputs": [
    {
     "name": "stdout",
     "output_type": "stream",
     "text": [
      "###### K-Nearest Neighbors #######\n",
      "accuracy: 0.5217391304347826\n",
      "report:\n",
      "              precision    recall  f1-score   support\n",
      "\n",
      "           0       0.29      0.25      0.27         8\n",
      "           1       0.62      0.67      0.65        15\n",
      "\n",
      "    accuracy                           0.52        23\n",
      "   macro avg       0.46      0.46      0.46        23\n",
      "weighted avg       0.51      0.52      0.51        23\n",
      "\n",
      "------------------------------\n",
      "\n",
      "###### Naive Bayes #######\n",
      "accuracy: 0.5652173913043478\n",
      "report:\n",
      "              precision    recall  f1-score   support\n",
      "\n",
      "           0       0.43      0.75      0.55         8\n",
      "           1       0.78      0.47      0.58        15\n",
      "\n",
      "    accuracy                           0.57        23\n",
      "   macro avg       0.60      0.61      0.56        23\n",
      "weighted avg       0.66      0.57      0.57        23\n",
      "\n",
      "------------------------------\n",
      "\n",
      "###### Linear SVM #######\n",
      "accuracy: 0.6521739130434783\n",
      "report:\n",
      "              precision    recall  f1-score   support\n",
      "\n",
      "           0       0.00      0.00      0.00         8\n",
      "           1       0.65      1.00      0.79        15\n",
      "\n",
      "    accuracy                           0.65        23\n",
      "   macro avg       0.33      0.50      0.39        23\n",
      "weighted avg       0.43      0.65      0.51        23\n",
      "\n",
      "------------------------------\n",
      "\n",
      "###### RBF SVM #######\n",
      "accuracy: 0.6086956521739131\n",
      "report:\n",
      "              precision    recall  f1-score   support\n",
      "\n",
      "           0       0.00      0.00      0.00         8\n",
      "           1       0.64      0.93      0.76        15\n",
      "\n",
      "    accuracy                           0.61        23\n",
      "   macro avg       0.32      0.47      0.38        23\n",
      "weighted avg       0.42      0.61      0.49        23\n",
      "\n",
      "------------------------------\n",
      "\n",
      "###### Decision Tree #######\n",
      "accuracy: 0.6086956521739131\n",
      "report:\n",
      "              precision    recall  f1-score   support\n",
      "\n",
      "           0       0.44      0.50      0.47         8\n",
      "           1       0.71      0.67      0.69        15\n",
      "\n",
      "    accuracy                           0.61        23\n",
      "   macro avg       0.58      0.58      0.58        23\n",
      "weighted avg       0.62      0.61      0.61        23\n",
      "\n",
      "------------------------------\n",
      "\n"
     ]
    },
    {
     "name": "stderr",
     "output_type": "stream",
     "text": [
      "/nix/store/b7sq43xpybfygir4905ah8gbdidkmabv-python3.9-scikit-learn-0.24.1/lib/python3.9/site-packages/sklearn/metrics/_classification.py:1245: UndefinedMetricWarning: Precision and F-score are ill-defined and being set to 0.0 in labels with no predicted samples. Use `zero_division` parameter to control this behavior.\n",
      "  _warn_prf(average, modifier, msg_start, len(result))\n",
      "/nix/store/b7sq43xpybfygir4905ah8gbdidkmabv-python3.9-scikit-learn-0.24.1/lib/python3.9/site-packages/sklearn/metrics/_classification.py:1245: UndefinedMetricWarning: Precision and F-score are ill-defined and being set to 0.0 in labels with no predicted samples. Use `zero_division` parameter to control this behavior.\n",
      "  _warn_prf(average, modifier, msg_start, len(result))\n",
      "/nix/store/b7sq43xpybfygir4905ah8gbdidkmabv-python3.9-scikit-learn-0.24.1/lib/python3.9/site-packages/sklearn/metrics/_classification.py:1245: UndefinedMetricWarning: Precision and F-score are ill-defined and being set to 0.0 in labels with no predicted samples. Use `zero_division` parameter to control this behavior.\n",
      "  _warn_prf(average, modifier, msg_start, len(result))\n"
     ]
    },
    {
     "name": "stdout",
     "output_type": "stream",
     "text": [
      "###### Random Forest #######\n",
      "accuracy: 0.4782608695652174\n",
      "report:\n",
      "              precision    recall  f1-score   support\n",
      "\n",
      "           0       0.33      0.50      0.40         8\n",
      "           1       0.64      0.47      0.54        15\n",
      "\n",
      "    accuracy                           0.48        23\n",
      "   macro avg       0.48      0.48      0.47        23\n",
      "weighted avg       0.53      0.48      0.49        23\n",
      "\n",
      "------------------------------\n",
      "\n",
      "###### Neural Net #######\n",
      "accuracy: 0.5652173913043478\n",
      "report:\n",
      "              precision    recall  f1-score   support\n",
      "\n",
      "           0       0.40      0.50      0.44         8\n",
      "           1       0.69      0.60      0.64        15\n",
      "\n",
      "    accuracy                           0.57        23\n",
      "   macro avg       0.55      0.55      0.54        23\n",
      "weighted avg       0.59      0.57      0.57        23\n",
      "\n",
      "------------------------------\n",
      "\n",
      "###### AdaBoost #######\n",
      "accuracy: 0.5217391304347826\n",
      "report:\n",
      "              precision    recall  f1-score   support\n",
      "\n",
      "           0       0.38      0.62      0.48         8\n",
      "           1       0.70      0.47      0.56        15\n",
      "\n",
      "    accuracy                           0.52        23\n",
      "   macro avg       0.54      0.55      0.52        23\n",
      "weighted avg       0.59      0.52      0.53        23\n",
      "\n",
      "------------------------------\n",
      "\n"
     ]
    },
    {
     "name": "stderr",
     "output_type": "stream",
     "text": [
      "/nix/store/b7sq43xpybfygir4905ah8gbdidkmabv-python3.9-scikit-learn-0.24.1/lib/python3.9/site-packages/sklearn/neural_network/_multilayer_perceptron.py:614: ConvergenceWarning: Stochastic Optimizer: Maximum iterations (200) reached and the optimization hasn't converged yet.\n",
      "  warnings.warn(\n"
     ]
    }
   ],
   "source": [
    "# Set up different classifiers with label encoder\n",
    "\n",
    "names = [\"K-Nearest Neighbors\", \"Naive Bayes\", \"Linear SVM\", \"RBF SVM\", \n",
    "         \"Decision Tree\", \"Random Forest\", \"Neural Net\", \"AdaBoost\"]\n",
    "\n",
    "classifiers = [\n",
    "    KNeighborsClassifier(),\n",
    "    GaussianNB(),\n",
    "    SVC(kernel=\"linear\", C=0.025),\n",
    "    SVC(gamma=\"scale\", C=1),\n",
    "    DecisionTreeClassifier(),\n",
    "    RandomForestClassifier(),\n",
    "    MLPClassifier(),\n",
    "    AdaBoostClassifier()]\n",
    "\n",
    "# Compare different classifiers\n",
    "\n",
    "for name, clf in zip(names, classifiers):\n",
    "    model = clf\n",
    "    model.fit(X_train, y_train)\n",
    "    y_pred = model.predict(X_test)\n",
    "    accuracy = accuracy_score(y_test,y_pred)\n",
    "    report = classification_report(y_test, y_pred)\n",
    "    print(\"###### \" + name + \" #######\")\n",
    "    print(\"accuracy: {}\".format(accuracy))\n",
    "    print(\"report:\")\n",
    "    print(report)\n",
    "    print(\"------------------------------\\n\")\n"
   ]
  },
  {
   "cell_type": "code",
   "execution_count": null,
   "metadata": {},
   "outputs": [],
   "source": []
  },
  {
   "cell_type": "code",
   "execution_count": 44,
   "metadata": {},
   "outputs": [
    {
     "name": "stdout",
     "output_type": "stream",
     "text": [
      "dummmy score: 0.391304347826087\n",
      "RF accuracy: 0.43478260869565216\n"
     ]
    }
   ],
   "source": [
    "# Generate training and test sets with one-hot encoding\n",
    "\n",
    "wanted_columns = [\"Gender\", \"status\",\n",
    "                  \"Age bin\"]\n",
    "df_wanted = df[wanted_columns]\n",
    "\n",
    "le = LabelEncoder()\n",
    "df_wanted_le = df_wanted.apply(le.fit_transform)\n",
    "ohe = OneHotEncoder()\n",
    "ohe.fit(df_wanted_le)\n",
    "input_df = ohe.transform(df_wanted_le).toarray()\n",
    "# concatenate arrays\n",
    "input_df = np.c_[input_df, df[[\"IgG/ODs\",\"IgM/ODs\"]].values]\n",
    "\n",
    "\n",
    "X_train, X_test, y_train, y_test = train_test_split(input_df,\n",
    "                                                    targets,\n",
    "                                                    random_state=42)\n",
    "\n",
    "# Benchmark with dummy classifier\n",
    "\n",
    "dummy_clf = DummyClassifier(strategy=\"stratified\")\n",
    "dummy_clf.fit(X_train, y_train)\n",
    "print(\"dummmy score: {}\".format(dummy_clf.score(X_test, y_test)))\n",
    "\n",
    "# Random forest model\n",
    "\n",
    "model = RandomForestClassifier(n_jobs=2, random_state=42)\n",
    "model.fit(X_train, y_train)\n",
    "print(\"RF accuracy: {}\".format(model.score(X_test, y_test)))"
   ]
  },
  {
   "cell_type": "code",
   "execution_count": 45,
   "metadata": {},
   "outputs": [
    {
     "name": "stdout",
     "output_type": "stream",
     "text": [
      "###### K-Nearest Neighbors #######\n",
      "accuracy: 0.4782608695652174\n",
      "report:\n",
      "              precision    recall  f1-score   support\n",
      "\n",
      "           0       0.17      0.12      0.14         8\n",
      "           1       0.59      0.67      0.62        15\n",
      "\n",
      "    accuracy                           0.48        23\n",
      "   macro avg       0.38      0.40      0.38        23\n",
      "weighted avg       0.44      0.48      0.46        23\n",
      "\n",
      "------------------------------\n",
      "\n",
      "###### Naive Bayes #######\n",
      "accuracy: 0.6086956521739131\n",
      "report:\n",
      "              precision    recall  f1-score   support\n",
      "\n",
      "           0       0.00      0.00      0.00         8\n",
      "           1       0.64      0.93      0.76        15\n",
      "\n",
      "    accuracy                           0.61        23\n",
      "   macro avg       0.32      0.47      0.38        23\n",
      "weighted avg       0.42      0.61      0.49        23\n",
      "\n",
      "------------------------------\n",
      "\n",
      "###### Linear SVM #######\n",
      "accuracy: 0.6521739130434783\n",
      "report:\n",
      "              precision    recall  f1-score   support\n",
      "\n",
      "           0       0.00      0.00      0.00         8\n",
      "           1       0.65      1.00      0.79        15\n",
      "\n",
      "    accuracy                           0.65        23\n",
      "   macro avg       0.33      0.50      0.39        23\n",
      "weighted avg       0.43      0.65      0.51        23\n",
      "\n",
      "------------------------------\n",
      "\n",
      "###### RBF SVM #######\n",
      "accuracy: 0.43478260869565216\n",
      "report:\n",
      "              precision    recall  f1-score   support\n",
      "\n",
      "           0       0.14      0.12      0.13         8\n",
      "           1       0.56      0.60      0.58        15\n",
      "\n",
      "    accuracy                           0.43        23\n",
      "   macro avg       0.35      0.36      0.36        23\n",
      "weighted avg       0.42      0.43      0.43        23\n",
      "\n",
      "------------------------------\n",
      "\n",
      "###### Decision Tree #######\n",
      "accuracy: 0.5652173913043478\n",
      "report:\n",
      "              precision    recall  f1-score   support\n",
      "\n",
      "           0       0.42      0.62      0.50         8\n",
      "           1       0.73      0.53      0.62        15\n",
      "\n",
      "    accuracy                           0.57        23\n",
      "   macro avg       0.57      0.58      0.56        23\n",
      "weighted avg       0.62      0.57      0.58        23\n",
      "\n",
      "------------------------------\n",
      "\n",
      "###### Random Forest #######\n",
      "accuracy: 0.4782608695652174\n",
      "report:\n",
      "              precision    recall  f1-score   support\n",
      "\n",
      "           0       0.30      0.38      0.33         8\n",
      "           1       0.62      0.53      0.57        15\n",
      "\n",
      "    accuracy                           0.48        23\n",
      "   macro avg       0.46      0.45      0.45        23\n",
      "weighted avg       0.51      0.48      0.49        23\n",
      "\n",
      "------------------------------\n",
      "\n"
     ]
    },
    {
     "name": "stderr",
     "output_type": "stream",
     "text": [
      "/nix/store/b7sq43xpybfygir4905ah8gbdidkmabv-python3.9-scikit-learn-0.24.1/lib/python3.9/site-packages/sklearn/metrics/_classification.py:1245: UndefinedMetricWarning: Precision and F-score are ill-defined and being set to 0.0 in labels with no predicted samples. Use `zero_division` parameter to control this behavior.\n",
      "  _warn_prf(average, modifier, msg_start, len(result))\n",
      "/nix/store/b7sq43xpybfygir4905ah8gbdidkmabv-python3.9-scikit-learn-0.24.1/lib/python3.9/site-packages/sklearn/metrics/_classification.py:1245: UndefinedMetricWarning: Precision and F-score are ill-defined and being set to 0.0 in labels with no predicted samples. Use `zero_division` parameter to control this behavior.\n",
      "  _warn_prf(average, modifier, msg_start, len(result))\n",
      "/nix/store/b7sq43xpybfygir4905ah8gbdidkmabv-python3.9-scikit-learn-0.24.1/lib/python3.9/site-packages/sklearn/metrics/_classification.py:1245: UndefinedMetricWarning: Precision and F-score are ill-defined and being set to 0.0 in labels with no predicted samples. Use `zero_division` parameter to control this behavior.\n",
      "  _warn_prf(average, modifier, msg_start, len(result))\n"
     ]
    },
    {
     "name": "stdout",
     "output_type": "stream",
     "text": [
      "###### Neural Net #######\n",
      "accuracy: 0.43478260869565216\n",
      "report:\n",
      "              precision    recall  f1-score   support\n",
      "\n",
      "           0       0.22      0.25      0.24         8\n",
      "           1       0.57      0.53      0.55        15\n",
      "\n",
      "    accuracy                           0.43        23\n",
      "   macro avg       0.40      0.39      0.39        23\n",
      "weighted avg       0.45      0.43      0.44        23\n",
      "\n",
      "------------------------------\n",
      "\n",
      "###### AdaBoost #######\n",
      "accuracy: 0.4782608695652174\n",
      "report:\n",
      "              precision    recall  f1-score   support\n",
      "\n",
      "           0       0.30      0.38      0.33         8\n",
      "           1       0.62      0.53      0.57        15\n",
      "\n",
      "    accuracy                           0.48        23\n",
      "   macro avg       0.46      0.45      0.45        23\n",
      "weighted avg       0.51      0.48      0.49        23\n",
      "\n",
      "------------------------------\n",
      "\n"
     ]
    },
    {
     "name": "stderr",
     "output_type": "stream",
     "text": [
      "/nix/store/b7sq43xpybfygir4905ah8gbdidkmabv-python3.9-scikit-learn-0.24.1/lib/python3.9/site-packages/sklearn/neural_network/_multilayer_perceptron.py:614: ConvergenceWarning: Stochastic Optimizer: Maximum iterations (200) reached and the optimization hasn't converged yet.\n",
      "  warnings.warn(\n"
     ]
    }
   ],
   "source": [
    "# Set up different classifiers with one-hot encoder\n",
    "\n",
    "names = [\"K-Nearest Neighbors\", \"Naive Bayes\", \"Linear SVM\", \"RBF SVM\", \n",
    "         \"Decision Tree\", \"Random Forest\", \"Neural Net\", \"AdaBoost\"]\n",
    "\n",
    "classifiers = [\n",
    "    KNeighborsClassifier(),\n",
    "    GaussianNB(),\n",
    "    SVC(kernel=\"linear\", C=0.025),\n",
    "    SVC(gamma=\"scale\", C=1),\n",
    "    DecisionTreeClassifier(),\n",
    "    RandomForestClassifier(),\n",
    "    MLPClassifier(),\n",
    "    AdaBoostClassifier()]\n",
    "\n",
    "# Compare different classifiers\n",
    "\n",
    "for name, clf in zip(names, classifiers):\n",
    "    model = clf\n",
    "    model.fit(X_train, y_train)\n",
    "    y_pred = model.predict(X_test)\n",
    "    accuracy = accuracy_score(y_test,y_pred)\n",
    "    report = classification_report(y_test, y_pred)\n",
    "    print(\"###### \" + name + \" #######\")\n",
    "    print(\"accuracy: {}\".format(accuracy))\n",
    "    print(\"report:\")\n",
    "    print(report)\n",
    "    print(\"------------------------------\\n\")\n"
   ]
  },
  {
   "cell_type": "code",
   "execution_count": null,
   "metadata": {},
   "outputs": [],
   "source": []
  }
 ],
 "metadata": {
  "kernelspec": {
   "display_name": "Python 3",
   "language": "python",
   "name": "python3"
  },
  "language_info": {
   "codemirror_mode": {
    "name": "ipython",
    "version": 3
   },
   "file_extension": ".py",
   "mimetype": "text/x-python",
   "name": "python",
   "nbconvert_exporter": "python",
   "pygments_lexer": "ipython3",
   "version": "3.9.6"
  }
 },
 "nbformat": 4,
 "nbformat_minor": 4
}
